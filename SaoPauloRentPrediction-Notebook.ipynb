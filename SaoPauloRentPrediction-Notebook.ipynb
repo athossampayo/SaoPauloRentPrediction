{
 "cells": [
  {
   "cell_type": "markdown",
   "metadata": {},
   "source": [
    "# Análise dos dados de Aluguel do QuintoAndar\n",
    "***"
   ]
  },
  {
   "cell_type": "markdown",
   "metadata": {
    "collapsed": "true"
   },
   "source": [
    "## Motivação e proposta"
   ]
  },
  {
   "cell_type": "markdown",
   "metadata": {},
   "source": [
    "+ Nesse projeto irá ser desenvolvido um Algoritmo de Machine Learning capaz de recomendar o valor a se cobrar no aluguel de um imóvel a partir de suas características (nº de quartos, vaga na garagem, metragem, etc). Para isso, a partir dos cinceitos de ETl (Extract-Transform-Load), irei extrair os dados de imóveis localizados em São Paulo no aplicativo [QuintoAndar](http://quintoandar.com.br/), explorá-lo estatísticamente e depois, escolher o melhor algoritmo para o trabalho.\n",
    "+ Esse projeto terá utilidade para que os usuários saibam qual o valor de mercado esperado para seus imóveis no momento de anúnciar. Além disso, será de grande importância para meu aprendizado, colocando à prova meus conhecimentos até hoje estudados. "
   ]
  },
  {
   "cell_type": "markdown",
   "metadata": {
    "collapsed": "true"
   },
   "source": [
    "## Dados\n",
    "\n",
    "Os dados aqui utilizados foram extraídos do site do QuintoAndar pelo uso de seu API interno, estando já prontos para importação no arquivo `aluguel_unique.csv` e a única preparação feita anteriormente foi a remoção de linhas duplicadas nas respostas do API."
   ]
  },
  {
   "cell_type": "markdown",
   "metadata": {
    "collapsed": "true",
    "heading_collapsed": "true"
   },
   "source": [
    "## Estrutura do Notebook"
   ]
  },
  {
   "cell_type": "markdown",
   "metadata": {},
   "source": [
    "**1. Importações**\n",
    "\n",
    "**2. Análise exploratória:**\n",
    "\n",
    "Nesse momento tenta-se conhecer melhor o dataset, a partir de:\n",
    "\n",
    "* Entender informações básicas do dataset, como tamanho, quais as variáveis, etc. E definir quais colunas utilizar.\n",
    "* Conferir se há dados faltantes, se será preciso transformar alguma variável, etc.\n",
    "* Análises estatísticas\n",
    "   \n",
    "**3. Formulação das hipóteses**\n",
    "\n",
    "Hipóteses sobre os dados? Talvez sobre valorXregiao?\n",
    "    \n",
    "**4. Seleção de features para Machine Learning**\n",
    "\n",
    "Escolher quais colunas do dataset serão realmente utilizadas. Conferir as correlações entre elas e se preciso, transformar variáveis categóricas. \n",
    "\n",
    "**5. Teste de diversos algoritmos de Machine Learning**\n",
    "\n",
    "Aplica-se uma série de algoritmos e conferimos suas taxas de acerto, com isso, definiremos qual o melhor algoritmo para a proposta do projeto.\n",
    "    \n",
    "**6. Criação de um Pipeline para deploy**\n",
    "\n",
    "Escolhido o algoritmo, criamos um pipeline com todo o processo de transformação e aplicação do mesmo para poder-mos fazer o deploy posteriormente.\n",
    "    \n",
    "**7. Conclusão do projeto**\n",
    "\n",
    "Considerações finais do projeto."
   ]
  },
  {
   "cell_type": "markdown",
   "metadata": {
    "collapsed": "true"
   },
   "source": [
    "## 1. Importações"
   ]
  },
  {
   "cell_type": "code",
   "execution_count": 1,
   "metadata": {},
   "outputs": [],
   "source": [
    "import pandas                as pd\n",
    "import seaborn               as sns\n",
    "import matplotlib.pyplot     as plt\n",
    "import matplotlib.ticker     as mtick\n",
    "import numpy                 as np\n",
    "import warnings\n",
    "import gc\n",
    "from IPython.display         import Markdown, display\n",
    "from sklearn.ensemble        import RandomForestClassifier\n",
    "from sklearn.preprocessing   import LabelEncoder, OneHotEncoder, PolynomialFeatures, FunctionTransformer\n",
    "from sklearn.model_selection import train_test_split, validation_curve\n",
    "from sklearn.linear_model    import LinearRegression, Ridge, RidgeCV ,SGDRegressor\n",
    "from sklearn.pipeline        import make_pipeline\n",
    "from sklearn.preprocessing   import StandardScaler\n",
    "from boruta                  import BorutaPy\n",
    "\n",
    "warnings.filterwarnings('ignore')\n",
    "pd.set_option('display.max_columns', None)"
   ]
  },
  {
   "cell_type": "code",
   "execution_count": 2,
   "metadata": {},
   "outputs": [],
   "source": [
    "#Para poder estruturar alguns outputs irei utilizar essa função simples feita pelo user Charles no StackOverflow (https://stackoverflow.com/a/46934204)\n",
    "def printmd(string, color=None):\n",
    "    colorstr = \"<span style='color:{}'>{}</span>\".format(color, string)\n",
    "    display(Markdown(colorstr))"
   ]
  },
  {
   "cell_type": "code",
   "execution_count": 3,
   "metadata": {},
   "outputs": [],
   "source": [
    "db = pd.read_csv('aluguel_unique.csv')"
   ]
  },
  {
   "cell_type": "markdown",
   "metadata": {
    "collapsed": "true",
    "heading_collapsed": "true"
   },
   "source": [
    "## 2. Análise exploratória"
   ]
  },
  {
   "cell_type": "code",
   "execution_count": 4,
   "metadata": {},
   "outputs": [
    {
     "name": "stdout",
     "output_type": "stream",
     "text": [
      "O dataset tem : 10034 linhas e 22 colunas\n"
     ]
    }
   ],
   "source": [
    "print('O dataset tem : {linhas} linhas e {colunas} colunas'.format(linhas=db.shape[0],colunas=db.shape[1]))"
   ]
  },
  {
   "cell_type": "code",
   "execution_count": 5,
   "metadata": {},
   "outputs": [
    {
     "data": {
      "text/plain": [
       "Index(['Unnamed: 0', '_id', 'id', 'fields.quartos', 'fields.endereco',\n",
       "       'fields.id', 'fields.photo_titles', 'fields.tipo', 'fields.area',\n",
       "       'fields.for_rent', 'fields.sale_price', 'fields.aluguel',\n",
       "       'fields.foto_capa', 'fields.photos', 'fields.custo', 'fields.cidade',\n",
       "       'fields.visit_status', 'fields.for_sale', 'fields.condo_iptu',\n",
       "       'fields.vagas', 'fields.listing_tags', 'fields.regiao_nome'],\n",
       "      dtype='object')"
      ]
     },
     "execution_count": 5,
     "metadata": {},
     "output_type": "execute_result"
    }
   ],
   "source": [
    "db.columns"
   ]
  },
  {
   "cell_type": "code",
   "execution_count": 6,
   "metadata": {},
   "outputs": [
    {
     "data": {
      "text/html": [
       "<div>\n",
       "<style scoped>\n",
       "    .dataframe tbody tr th:only-of-type {\n",
       "        vertical-align: middle;\n",
       "    }\n",
       "\n",
       "    .dataframe tbody tr th {\n",
       "        vertical-align: top;\n",
       "    }\n",
       "\n",
       "    .dataframe thead th {\n",
       "        text-align: right;\n",
       "    }\n",
       "</style>\n",
       "<table border=\"1\" class=\"dataframe\">\n",
       "  <thead>\n",
       "    <tr style=\"text-align: right;\">\n",
       "      <th></th>\n",
       "      <th>Unnamed: 0</th>\n",
       "      <th>_id</th>\n",
       "      <th>id</th>\n",
       "      <th>fields.quartos</th>\n",
       "      <th>fields.endereco</th>\n",
       "      <th>fields.id</th>\n",
       "      <th>fields.photo_titles</th>\n",
       "      <th>fields.tipo</th>\n",
       "      <th>fields.area</th>\n",
       "      <th>fields.for_rent</th>\n",
       "      <th>fields.sale_price</th>\n",
       "      <th>fields.aluguel</th>\n",
       "      <th>fields.foto_capa</th>\n",
       "      <th>fields.photos</th>\n",
       "      <th>fields.custo</th>\n",
       "      <th>fields.cidade</th>\n",
       "      <th>fields.visit_status</th>\n",
       "      <th>fields.for_sale</th>\n",
       "      <th>fields.condo_iptu</th>\n",
       "      <th>fields.vagas</th>\n",
       "      <th>fields.listing_tags</th>\n",
       "      <th>fields.regiao_nome</th>\n",
       "    </tr>\n",
       "  </thead>\n",
       "  <tbody>\n",
       "    <tr>\n",
       "      <th>5356</th>\n",
       "      <td>5356</td>\n",
       "      <td>6021ee1d3d6af61e72c96cd3</td>\n",
       "      <td>893036920</td>\n",
       "      <td>true</td>\n",
       "      <td>Rua Apiacás</td>\n",
       "      <td>893036920</td>\n",
       "      <td>[\"Fachada\",\"Sala Quarto\",\"Sala Quarto\",\"Sala Q...</td>\n",
       "      <td>StudioOuKitchenette</td>\n",
       "      <td>25</td>\n",
       "      <td>True</td>\n",
       "      <td>false</td>\n",
       "      <td>1550</td>\n",
       "      <td>capa893036920208_33407678239857IMG0012.jpg</td>\n",
       "      <td>[\"893036920-208.33407678239857IMG0012.jpg\",\"89...</td>\n",
       "      <td>1601</td>\n",
       "      <td>São Paulo</td>\n",
       "      <td>ACCEPT_NEW</td>\n",
       "      <td>False</td>\n",
       "      <td>false</td>\n",
       "      <td>false</td>\n",
       "      <td>NaN</td>\n",
       "      <td>Perdizes</td>\n",
       "    </tr>\n",
       "    <tr>\n",
       "      <th>6292</th>\n",
       "      <td>6292</td>\n",
       "      <td>6021ee1d3d6af61e72c9707b</td>\n",
       "      <td>893098634</td>\n",
       "      <td>3</td>\n",
       "      <td>Rua Artur de Azevedo</td>\n",
       "      <td>893098634</td>\n",
       "      <td>[\"Sala de estar\",\"Sala de estar\",\"Sala de esta...</td>\n",
       "      <td>Apartamento</td>\n",
       "      <td>120</td>\n",
       "      <td>True</td>\n",
       "      <td>false</td>\n",
       "      <td>3600</td>\n",
       "      <td>capa893098634902_70319427227860001892863842658...</td>\n",
       "      <td>[\"893098634-902.70319427227860001892863842658....</td>\n",
       "      <td>6478</td>\n",
       "      <td>São Paulo</td>\n",
       "      <td>ACCEPT_NEW</td>\n",
       "      <td>False</td>\n",
       "      <td>2760</td>\n",
       "      <td>2</td>\n",
       "      <td>NaN</td>\n",
       "      <td>Pinheiros</td>\n",
       "    </tr>\n",
       "  </tbody>\n",
       "</table>\n",
       "</div>"
      ],
      "text/plain": [
       "      Unnamed: 0                       _id         id fields.quartos  \\\n",
       "5356        5356  6021ee1d3d6af61e72c96cd3  893036920           true   \n",
       "6292        6292  6021ee1d3d6af61e72c9707b  893098634              3   \n",
       "\n",
       "           fields.endereco  fields.id  \\\n",
       "5356           Rua Apiacás  893036920   \n",
       "6292  Rua Artur de Azevedo  893098634   \n",
       "\n",
       "                                    fields.photo_titles          fields.tipo  \\\n",
       "5356  [\"Fachada\",\"Sala Quarto\",\"Sala Quarto\",\"Sala Q...  StudioOuKitchenette   \n",
       "6292  [\"Sala de estar\",\"Sala de estar\",\"Sala de esta...          Apartamento   \n",
       "\n",
       "     fields.area  fields.for_rent fields.sale_price fields.aluguel  \\\n",
       "5356          25             True             false           1550   \n",
       "6292         120             True             false           3600   \n",
       "\n",
       "                                       fields.foto_capa  \\\n",
       "5356         capa893036920208_33407678239857IMG0012.jpg   \n",
       "6292  capa893098634902_70319427227860001892863842658...   \n",
       "\n",
       "                                          fields.photos fields.custo  \\\n",
       "5356  [\"893036920-208.33407678239857IMG0012.jpg\",\"89...         1601   \n",
       "6292  [\"893098634-902.70319427227860001892863842658....         6478   \n",
       "\n",
       "     fields.cidade fields.visit_status  fields.for_sale fields.condo_iptu  \\\n",
       "5356     São Paulo          ACCEPT_NEW            False             false   \n",
       "6292     São Paulo          ACCEPT_NEW            False              2760   \n",
       "\n",
       "     fields.vagas fields.listing_tags fields.regiao_nome  \n",
       "5356        false                 NaN           Perdizes  \n",
       "6292            2                 NaN          Pinheiros  "
      ]
     },
     "execution_count": 6,
     "metadata": {},
     "output_type": "execute_result"
    }
   ],
   "source": [
    "db.sample(2)"
   ]
  },
  {
   "cell_type": "code",
   "execution_count": 7,
   "metadata": {},
   "outputs": [
    {
     "data": {
      "text/plain": [
       "Unnamed: 0              int64\n",
       "_id                    object\n",
       "id                      int64\n",
       "fields.quartos         object\n",
       "fields.endereco        object\n",
       "fields.id               int64\n",
       "fields.photo_titles    object\n",
       "fields.tipo            object\n",
       "fields.area            object\n",
       "fields.for_rent          bool\n",
       "fields.sale_price      object\n",
       "fields.aluguel         object\n",
       "fields.foto_capa       object\n",
       "fields.photos          object\n",
       "fields.custo           object\n",
       "fields.cidade          object\n",
       "fields.visit_status    object\n",
       "fields.for_sale          bool\n",
       "fields.condo_iptu      object\n",
       "fields.vagas           object\n",
       "fields.listing_tags    object\n",
       "fields.regiao_nome     object\n",
       "dtype: object"
      ]
     },
     "execution_count": 7,
     "metadata": {},
     "output_type": "execute_result"
    }
   ],
   "source": [
    "db.dtypes"
   ]
  },
  {
   "cell_type": "code",
   "execution_count": 8,
   "metadata": {},
   "outputs": [
    {
     "name": "stdout",
     "output_type": "stream",
     "text": [
      "893102075    1\n",
      "893027674    1\n",
      "893002302    1\n",
      "893093218    1\n",
      "893229526    1\n",
      "            ..\n",
      "892975390    1\n",
      "893211375    1\n",
      "893010669    1\n",
      "893242092    1\n",
      "893091840    1\n",
      "Name: id, Length: 10034, dtype: int64\n",
      "=================================================\n",
      "true    4431\n",
      "2       2660\n",
      "3       2129\n",
      "4        660\n",
      "5        101\n",
      "6         24\n",
      "8         12\n",
      "7         10\n",
      "10         2\n",
      "12         2\n",
      "14         1\n",
      "9          1\n",
      "11         1\n",
      "Name: fields.quartos, dtype: int64\n",
      "=================================================\n",
      "Rua Bela Cintra                                                                       103\n",
      "Avenida Nove de Julho                                                                  85\n",
      "Rua João Cachoeira                                                                     76\n",
      "Rua da Consolação                                                                      72\n",
      "Avenida São João                                                                       70\n",
      "                                                                                     ... \n",
      "Rua General Isidoro Dias Lopes                                                          1\n",
      "Rua Montesquiéu                                                                         1\n",
      "Oscar Cintra Gordinho                                                                   1\n",
      "R. Alonso Calhamares, 13 - Jardim Analia Franco, São Paulo - Sp, 03335-080, Brasil      1\n",
      "Rua Doutor Fomm                                                                         1\n",
      "Name: fields.endereco, Length: 2554, dtype: int64\n",
      "=================================================\n",
      "Apartamento            7201\n",
      "StudioOuKitchenette    1885\n",
      "Casa                    885\n",
      "CasaCondominio           63\n",
      "Name: fields.tipo, dtype: int64\n",
      "=================================================\n",
      "40     415\n",
      "50     322\n",
      "30     313\n",
      "35     285\n",
      "70     249\n",
      "      ... \n",
      "416      1\n",
      "363      1\n",
      "577      1\n",
      "445      1\n",
      "372      1\n",
      "Name: fields.area, Length: 376, dtype: int64\n",
      "=================================================\n",
      "True    10034\n",
      "Name: fields.for_rent, dtype: int64\n",
      "=================================================\n",
      "false        6841\n",
      "3000000        66\n",
      "1200000        66\n",
      "350000         56\n",
      "1100000        50\n",
      "             ... \n",
      "877000          1\n",
      "2520000         1\n",
      "699990          1\n",
      "235000000       1\n",
      "3250000         1\n",
      "Name: fields.sale_price, Length: 499, dtype: int64\n",
      "=================================================\n",
      "2500    261\n",
      "3000    244\n",
      "2000    235\n",
      "3500    233\n",
      "2200    190\n",
      "       ... \n",
      "7893      1\n",
      "6460      1\n",
      "3357      1\n",
      "1211      1\n",
      "4321      1\n",
      "Name: fields.aluguel, Length: 1639, dtype: int64\n",
      "=================================================\n",
      "4282     24\n",
      "2842     20\n",
      "3765     20\n",
      "1343     16\n",
      "2045     14\n",
      "         ..\n",
      "9658      1\n",
      "13488     1\n",
      "10224     1\n",
      "8218      1\n",
      "7472      1\n",
      "Name: fields.custo, Length: 5649, dtype: int64\n",
      "=================================================\n",
      "São Paulo             10032\n",
      "São Caetano do Sul        2\n",
      "Name: fields.cidade, dtype: int64\n",
      "=================================================\n",
      "ACCEPT_NEW       9586\n",
      "BLOCKED           442\n",
      "ACCEPT_ALWAYS       6\n",
      "Name: fields.visit_status, dtype: int64\n",
      "=================================================\n",
      "False    7634\n",
      "True     2400\n",
      "Name: fields.for_sale, dtype: int64\n",
      "=================================================\n",
      "false    379\n",
      "450       84\n",
      "350       78\n",
      "500       75\n",
      "400       74\n",
      "        ... \n",
      "3034       1\n",
      "2091       1\n",
      "2850       1\n",
      "6754       1\n",
      "4368       1\n",
      "Name: fields.condo_iptu, Length: 2675, dtype: int64\n",
      "=================================================\n",
      "true     4579\n",
      "false    3012\n",
      "2        1481\n",
      "3         489\n",
      "4         279\n",
      "5          86\n",
      "6          59\n",
      "8          33\n",
      "7          11\n",
      "10          2\n",
      "9           2\n",
      "20          1\n",
      "Name: fields.vagas, dtype: int64\n",
      "=================================================\n",
      "[\"NEW_AD\"]                                                                      1787\n",
      "[\"RENT_PRICE_DECREASED\"]                                                         931\n",
      "[\"RENT_ON_TERMINATION\",\"VISITS_UNAVAILABLE\"]                                     325\n",
      "[\"NEW_AD\",\"RENT_PRICE_DECREASED\"]                                                148\n",
      "[\"RENT_ON_TERMINATION\",\"NEW_AD\",\"VISITS_UNAVAILABLE\"]                             83\n",
      "[\"NEW_AD\",\"VISITS_UNAVAILABLE\"]                                                   10\n",
      "[\"RENT_ON_TERMINATION\"]                                                           10\n",
      "[\"VISITS_UNAVAILABLE\"]                                                             9\n",
      "[\"RENT_ON_TERMINATION\",\"NEW_AD\",\"RENT_PRICE_DECREASED\",\"VISITS_UNAVAILABLE\"]       8\n",
      "[\"RENT_ON_TERMINATION\",\"RENT_PRICE_DECREASED\",\"VISITS_UNAVAILABLE\"]                5\n",
      "[\"RENT_PRICE_DECREASED\",\"VISITS_UNAVAILABLE\"]                                      1\n",
      "Name: fields.listing_tags, dtype: int64\n",
      "=================================================\n",
      "Jardim Paulista          769\n",
      "Bela Vista               631\n",
      "Consolação               627\n",
      "Santa Cecília            594\n",
      "Moema                    441\n",
      "                        ... \n",
      "Jardim Santa Emília        1\n",
      "São João Clímaco           1\n",
      "Chácara Santo Antonio      1\n",
      "Piqueri                    1\n",
      "Vila Prado                 1\n",
      "Name: fields.regiao_nome, Length: 85, dtype: int64\n",
      "=================================================\n"
     ]
    }
   ],
   "source": [
    "# Vamos entender porque existem tantas colunas numéricas com dtype de object\n",
    "# Já removi algumas colunas que não são de nosso interesse, como nome das photos, etc\n",
    "colunas = ['id', 'fields.quartos', 'fields.endereco',\n",
    "       'fields.tipo', 'fields.area',\n",
    "       'fields.for_rent', 'fields.sale_price',\n",
    "       'fields.aluguel','fields.custo',\n",
    "       'fields.cidade', 'fields.visit_status', 'fields.for_sale',\n",
    "       'fields.condo_iptu', 'fields.vagas', 'fields.listing_tags',\n",
    "       'fields.regiao_nome']\n",
    "db = db[colunas]\n",
    "for i in colunas:\n",
    "    print(db[i].value_counts())\n",
    "    print('=================================================')"
   ]
  },
  {
   "cell_type": "code",
   "execution_count": 9,
   "metadata": {},
   "outputs": [
    {
     "data": {
      "text/plain": [
       "1"
      ]
     },
     "execution_count": 9,
     "metadata": {},
     "output_type": "execute_result"
    }
   ],
   "source": [
    "# temos um valor 'true' na coluna de área\n",
    "db['fields.area'].value_counts().true"
   ]
  },
  {
   "cell_type": "code",
   "execution_count": 10,
   "metadata": {},
   "outputs": [
    {
     "data": {
      "text/html": [
       "<div>\n",
       "<style scoped>\n",
       "    .dataframe tbody tr th:only-of-type {\n",
       "        vertical-align: middle;\n",
       "    }\n",
       "\n",
       "    .dataframe tbody tr th {\n",
       "        vertical-align: top;\n",
       "    }\n",
       "\n",
       "    .dataframe thead th {\n",
       "        text-align: right;\n",
       "    }\n",
       "</style>\n",
       "<table border=\"1\" class=\"dataframe\">\n",
       "  <thead>\n",
       "    <tr style=\"text-align: right;\">\n",
       "      <th></th>\n",
       "      <th>id</th>\n",
       "      <th>fields.quartos</th>\n",
       "      <th>fields.endereco</th>\n",
       "      <th>fields.tipo</th>\n",
       "      <th>fields.area</th>\n",
       "      <th>fields.for_rent</th>\n",
       "      <th>fields.sale_price</th>\n",
       "      <th>fields.aluguel</th>\n",
       "      <th>fields.custo</th>\n",
       "      <th>fields.cidade</th>\n",
       "      <th>fields.visit_status</th>\n",
       "      <th>fields.for_sale</th>\n",
       "      <th>fields.condo_iptu</th>\n",
       "      <th>fields.vagas</th>\n",
       "      <th>fields.listing_tags</th>\n",
       "      <th>fields.regiao_nome</th>\n",
       "    </tr>\n",
       "  </thead>\n",
       "  <tbody>\n",
       "    <tr>\n",
       "      <th>5198</th>\n",
       "      <td>893097017</td>\n",
       "      <td>4</td>\n",
       "      <td>Rua Cristiano Viana</td>\n",
       "      <td>Casa</td>\n",
       "      <td>true</td>\n",
       "      <td>True</td>\n",
       "      <td>false</td>\n",
       "      <td>10000</td>\n",
       "      <td>11203</td>\n",
       "      <td>São Paulo</td>\n",
       "      <td>ACCEPT_NEW</td>\n",
       "      <td>False</td>\n",
       "      <td>837</td>\n",
       "      <td>2</td>\n",
       "      <td>NaN</td>\n",
       "      <td>Pinheiros</td>\n",
       "    </tr>\n",
       "  </tbody>\n",
       "</table>\n",
       "</div>"
      ],
      "text/plain": [
       "             id fields.quartos      fields.endereco fields.tipo fields.area  \\\n",
       "5198  893097017              4  Rua Cristiano Viana        Casa        true   \n",
       "\n",
       "      fields.for_rent fields.sale_price fields.aluguel fields.custo  \\\n",
       "5198             True             false          10000        11203   \n",
       "\n",
       "     fields.cidade fields.visit_status  fields.for_sale fields.condo_iptu  \\\n",
       "5198     São Paulo          ACCEPT_NEW            False               837   \n",
       "\n",
       "     fields.vagas fields.listing_tags fields.regiao_nome  \n",
       "5198            2                 NaN          Pinheiros  "
      ]
     },
     "execution_count": 10,
     "metadata": {},
     "output_type": "execute_result"
    }
   ],
   "source": [
    "db[db['fields.area']=='true']"
   ]
  },
  {
   "cell_type": "markdown",
   "metadata": {},
   "source": [
    "Ao conferir no QuintoAndar, percebi que é um caso de provável erro de digitação:\n",
    "<img src='area1_screenshot.png'/>"
   ]
  },
  {
   "cell_type": "code",
   "execution_count": 11,
   "metadata": {},
   "outputs": [
    {
     "data": {
      "text/plain": [
       "1"
      ]
     },
     "execution_count": 11,
     "metadata": {},
     "output_type": "execute_result"
    }
   ],
   "source": [
    "# temos um valor 'false' na coluna de área\n",
    "db['fields.area'].value_counts().false"
   ]
  },
  {
   "cell_type": "code",
   "execution_count": 12,
   "metadata": {},
   "outputs": [
    {
     "data": {
      "text/html": [
       "<div>\n",
       "<style scoped>\n",
       "    .dataframe tbody tr th:only-of-type {\n",
       "        vertical-align: middle;\n",
       "    }\n",
       "\n",
       "    .dataframe tbody tr th {\n",
       "        vertical-align: top;\n",
       "    }\n",
       "\n",
       "    .dataframe thead th {\n",
       "        text-align: right;\n",
       "    }\n",
       "</style>\n",
       "<table border=\"1\" class=\"dataframe\">\n",
       "  <thead>\n",
       "    <tr style=\"text-align: right;\">\n",
       "      <th></th>\n",
       "      <th>id</th>\n",
       "      <th>fields.quartos</th>\n",
       "      <th>fields.endereco</th>\n",
       "      <th>fields.tipo</th>\n",
       "      <th>fields.area</th>\n",
       "      <th>fields.for_rent</th>\n",
       "      <th>fields.sale_price</th>\n",
       "      <th>fields.aluguel</th>\n",
       "      <th>fields.custo</th>\n",
       "      <th>fields.cidade</th>\n",
       "      <th>fields.visit_status</th>\n",
       "      <th>fields.for_sale</th>\n",
       "      <th>fields.condo_iptu</th>\n",
       "      <th>fields.vagas</th>\n",
       "      <th>fields.listing_tags</th>\n",
       "      <th>fields.regiao_nome</th>\n",
       "    </tr>\n",
       "  </thead>\n",
       "  <tbody>\n",
       "    <tr>\n",
       "      <th>7298</th>\n",
       "      <td>893119312</td>\n",
       "      <td>3</td>\n",
       "      <td>Rua Pedroso Alvarenga</td>\n",
       "      <td>Apartamento</td>\n",
       "      <td>false</td>\n",
       "      <td>True</td>\n",
       "      <td>1500000</td>\n",
       "      <td>4638</td>\n",
       "      <td>5989</td>\n",
       "      <td>São Paulo</td>\n",
       "      <td>ACCEPT_NEW</td>\n",
       "      <td>True</td>\n",
       "      <td>1200</td>\n",
       "      <td>true</td>\n",
       "      <td>NaN</td>\n",
       "      <td>Itaim Bibi</td>\n",
       "    </tr>\n",
       "  </tbody>\n",
       "</table>\n",
       "</div>"
      ],
      "text/plain": [
       "             id fields.quartos        fields.endereco  fields.tipo  \\\n",
       "7298  893119312              3  Rua Pedroso Alvarenga  Apartamento   \n",
       "\n",
       "     fields.area  fields.for_rent fields.sale_price fields.aluguel  \\\n",
       "7298       false             True           1500000           4638   \n",
       "\n",
       "     fields.custo fields.cidade fields.visit_status  fields.for_sale  \\\n",
       "7298         5989     São Paulo          ACCEPT_NEW             True   \n",
       "\n",
       "     fields.condo_iptu fields.vagas fields.listing_tags fields.regiao_nome  \n",
       "7298              1200         true                 NaN         Itaim Bibi  "
      ]
     },
     "execution_count": 12,
     "metadata": {},
     "output_type": "execute_result"
    }
   ],
   "source": [
    "db[db['fields.area']=='false']"
   ]
  },
  {
   "cell_type": "markdown",
   "metadata": {},
   "source": [
    "Ao conferir no QuintoAndar, percebi que provavelmente o mesmo ocorreu do anterior:\n",
    "<img src='area2_screenshot.png'/>"
   ]
  },
  {
   "cell_type": "code",
   "execution_count": 13,
   "metadata": {},
   "outputs": [
    {
     "data": {
      "text/plain": [
       "3"
      ]
     },
     "execution_count": 13,
     "metadata": {},
     "output_type": "execute_result"
    }
   ],
   "source": [
    "# temos três valores 'false' na coluna de aluguel\n",
    "db['fields.aluguel'].value_counts().false"
   ]
  },
  {
   "cell_type": "code",
   "execution_count": 14,
   "metadata": {},
   "outputs": [
    {
     "data": {
      "text/html": [
       "<div>\n",
       "<style scoped>\n",
       "    .dataframe tbody tr th:only-of-type {\n",
       "        vertical-align: middle;\n",
       "    }\n",
       "\n",
       "    .dataframe tbody tr th {\n",
       "        vertical-align: top;\n",
       "    }\n",
       "\n",
       "    .dataframe thead th {\n",
       "        text-align: right;\n",
       "    }\n",
       "</style>\n",
       "<table border=\"1\" class=\"dataframe\">\n",
       "  <thead>\n",
       "    <tr style=\"text-align: right;\">\n",
       "      <th></th>\n",
       "      <th>id</th>\n",
       "      <th>fields.quartos</th>\n",
       "      <th>fields.endereco</th>\n",
       "      <th>fields.tipo</th>\n",
       "      <th>fields.area</th>\n",
       "      <th>fields.for_rent</th>\n",
       "      <th>fields.sale_price</th>\n",
       "      <th>fields.aluguel</th>\n",
       "      <th>fields.custo</th>\n",
       "      <th>fields.cidade</th>\n",
       "      <th>fields.visit_status</th>\n",
       "      <th>fields.for_sale</th>\n",
       "      <th>fields.condo_iptu</th>\n",
       "      <th>fields.vagas</th>\n",
       "      <th>fields.listing_tags</th>\n",
       "      <th>fields.regiao_nome</th>\n",
       "    </tr>\n",
       "  </thead>\n",
       "  <tbody>\n",
       "    <tr>\n",
       "      <th>3143</th>\n",
       "      <td>893149051</td>\n",
       "      <td>3</td>\n",
       "      <td>Rua Taquara Branca</td>\n",
       "      <td>Apartamento</td>\n",
       "      <td>110</td>\n",
       "      <td>True</td>\n",
       "      <td>735000</td>\n",
       "      <td>false</td>\n",
       "      <td>1116</td>\n",
       "      <td>São Paulo</td>\n",
       "      <td>ACCEPT_NEW</td>\n",
       "      <td>True</td>\n",
       "      <td>1116</td>\n",
       "      <td>2</td>\n",
       "      <td>[\"NEW_AD\"]</td>\n",
       "      <td>Santana</td>\n",
       "    </tr>\n",
       "    <tr>\n",
       "      <th>5950</th>\n",
       "      <td>893242421</td>\n",
       "      <td>3</td>\n",
       "      <td>Rua Doutor Francisco de Paiva Carvalho</td>\n",
       "      <td>CasaCondominio</td>\n",
       "      <td>125</td>\n",
       "      <td>True</td>\n",
       "      <td>900000</td>\n",
       "      <td>false</td>\n",
       "      <td>175</td>\n",
       "      <td>São Paulo</td>\n",
       "      <td>ACCEPT_NEW</td>\n",
       "      <td>True</td>\n",
       "      <td>175</td>\n",
       "      <td>2</td>\n",
       "      <td>[\"NEW_AD\"]</td>\n",
       "      <td>Vila Maria</td>\n",
       "    </tr>\n",
       "    <tr>\n",
       "      <th>7629</th>\n",
       "      <td>893247966</td>\n",
       "      <td>3</td>\n",
       "      <td>Avenida Miruna</td>\n",
       "      <td>Casa</td>\n",
       "      <td>150</td>\n",
       "      <td>True</td>\n",
       "      <td>1740000</td>\n",
       "      <td>false</td>\n",
       "      <td>false</td>\n",
       "      <td>São Paulo</td>\n",
       "      <td>ACCEPT_NEW</td>\n",
       "      <td>True</td>\n",
       "      <td>false</td>\n",
       "      <td>3</td>\n",
       "      <td>[\"NEW_AD\"]</td>\n",
       "      <td>Moema</td>\n",
       "    </tr>\n",
       "  </tbody>\n",
       "</table>\n",
       "</div>"
      ],
      "text/plain": [
       "             id fields.quartos                         fields.endereco  \\\n",
       "3143  893149051              3                      Rua Taquara Branca   \n",
       "5950  893242421              3  Rua Doutor Francisco de Paiva Carvalho   \n",
       "7629  893247966              3                          Avenida Miruna   \n",
       "\n",
       "         fields.tipo fields.area  fields.for_rent fields.sale_price  \\\n",
       "3143     Apartamento         110             True            735000   \n",
       "5950  CasaCondominio         125             True            900000   \n",
       "7629            Casa         150             True           1740000   \n",
       "\n",
       "     fields.aluguel fields.custo fields.cidade fields.visit_status  \\\n",
       "3143          false         1116     São Paulo          ACCEPT_NEW   \n",
       "5950          false          175     São Paulo          ACCEPT_NEW   \n",
       "7629          false        false     São Paulo          ACCEPT_NEW   \n",
       "\n",
       "      fields.for_sale fields.condo_iptu fields.vagas fields.listing_tags  \\\n",
       "3143             True              1116            2          [\"NEW_AD\"]   \n",
       "5950             True               175            2          [\"NEW_AD\"]   \n",
       "7629             True             false            3          [\"NEW_AD\"]   \n",
       "\n",
       "     fields.regiao_nome  \n",
       "3143            Santana  \n",
       "5950        Vila Maria   \n",
       "7629              Moema  "
      ]
     },
     "execution_count": 14,
     "metadata": {},
     "output_type": "execute_result"
    }
   ],
   "source": [
    "db[db['fields.aluguel']=='false']"
   ]
  },
  {
   "cell_type": "markdown",
   "metadata": {},
   "source": [
    "Conferindo no site percebi que foi algum erro no API no momento da coleta ou na entrada de dados, então removeremos essas colunas:\n",
    "<img src='aluguel1_screenshot.png'/>"
   ]
  },
  {
   "cell_type": "code",
   "execution_count": 15,
   "metadata": {},
   "outputs": [
    {
     "data": {
      "text/html": [
       "<div>\n",
       "<style scoped>\n",
       "    .dataframe tbody tr th:only-of-type {\n",
       "        vertical-align: middle;\n",
       "    }\n",
       "\n",
       "    .dataframe tbody tr th {\n",
       "        vertical-align: top;\n",
       "    }\n",
       "\n",
       "    .dataframe thead th {\n",
       "        text-align: right;\n",
       "    }\n",
       "</style>\n",
       "<table border=\"1\" class=\"dataframe\">\n",
       "  <thead>\n",
       "    <tr style=\"text-align: right;\">\n",
       "      <th></th>\n",
       "      <th>id</th>\n",
       "      <th>fields.quartos</th>\n",
       "      <th>fields.endereco</th>\n",
       "      <th>fields.tipo</th>\n",
       "      <th>fields.area</th>\n",
       "      <th>fields.for_rent</th>\n",
       "      <th>fields.sale_price</th>\n",
       "      <th>fields.aluguel</th>\n",
       "      <th>fields.custo</th>\n",
       "      <th>fields.cidade</th>\n",
       "      <th>fields.visit_status</th>\n",
       "      <th>fields.for_sale</th>\n",
       "      <th>fields.condo_iptu</th>\n",
       "      <th>fields.vagas</th>\n",
       "      <th>fields.listing_tags</th>\n",
       "      <th>fields.regiao_nome</th>\n",
       "    </tr>\n",
       "  </thead>\n",
       "  <tbody>\n",
       "    <tr>\n",
       "      <th>3695</th>\n",
       "      <td>893171528</td>\n",
       "      <td>3</td>\n",
       "      <td>Rua Tutóia</td>\n",
       "      <td>Apartamento</td>\n",
       "      <td>118</td>\n",
       "      <td>True</td>\n",
       "      <td>true</td>\n",
       "      <td>4920</td>\n",
       "      <td>6151</td>\n",
       "      <td>São Paulo</td>\n",
       "      <td>ACCEPT_NEW</td>\n",
       "      <td>False</td>\n",
       "      <td>1070</td>\n",
       "      <td>false</td>\n",
       "      <td>[\"RENT_PRICE_DECREASED\"]</td>\n",
       "      <td>Paraíso</td>\n",
       "    </tr>\n",
       "    <tr>\n",
       "      <th>8916</th>\n",
       "      <td>893084971</td>\n",
       "      <td>3</td>\n",
       "      <td>Avenida Divino Salvador</td>\n",
       "      <td>Apartamento</td>\n",
       "      <td>150</td>\n",
       "      <td>True</td>\n",
       "      <td>true</td>\n",
       "      <td>3400</td>\n",
       "      <td>5749</td>\n",
       "      <td>São Paulo</td>\n",
       "      <td>ACCEPT_NEW</td>\n",
       "      <td>False</td>\n",
       "      <td>2237</td>\n",
       "      <td>true</td>\n",
       "      <td>NaN</td>\n",
       "      <td>Moema</td>\n",
       "    </tr>\n",
       "  </tbody>\n",
       "</table>\n",
       "</div>"
      ],
      "text/plain": [
       "             id fields.quartos          fields.endereco  fields.tipo  \\\n",
       "3695  893171528              3               Rua Tutóia  Apartamento   \n",
       "8916  893084971              3  Avenida Divino Salvador  Apartamento   \n",
       "\n",
       "     fields.area  fields.for_rent fields.sale_price fields.aluguel  \\\n",
       "3695         118             True              true           4920   \n",
       "8916         150             True              true           3400   \n",
       "\n",
       "     fields.custo fields.cidade fields.visit_status  fields.for_sale  \\\n",
       "3695         6151     São Paulo          ACCEPT_NEW            False   \n",
       "8916         5749     São Paulo          ACCEPT_NEW            False   \n",
       "\n",
       "     fields.condo_iptu fields.vagas       fields.listing_tags  \\\n",
       "3695              1070        false  [\"RENT_PRICE_DECREASED\"]   \n",
       "8916              2237         true                       NaN   \n",
       "\n",
       "     fields.regiao_nome  \n",
       "3695            Paraíso  \n",
       "8916              Moema  "
      ]
     },
     "execution_count": 15,
     "metadata": {},
     "output_type": "execute_result"
    }
   ],
   "source": [
    "#temos dois valor true em sale_price\n",
    "db[db['fields.sale_price']=='true']"
   ]
  },
  {
   "cell_type": "markdown",
   "metadata": {},
   "source": [
    "Conferindo no site percebi que os imóveis não estão disponíveis para venda:\n",
    "<img src='saleprice_screenshot.png'/>"
   ]
  },
  {
   "cell_type": "code",
   "execution_count": 16,
   "metadata": {},
   "outputs": [
    {
     "data": {
      "text/plain": [
       "['Liberdade',\n",
       " 'Centro',\n",
       " 'Mooca',\n",
       " 'Bela Vista',\n",
       " 'Consolação',\n",
       " 'Santa Cecília',\n",
       " 'Aclimação',\n",
       " 'Brás',\n",
       " 'Cambuci',\n",
       " 'Higienópolis',\n",
       " 'Barra Funda',\n",
       " 'Bom Retiro',\n",
       " 'Jardim Paulista',\n",
       " 'Paraíso',\n",
       " 'Vila Mariana',\n",
       " 'Perdizes',\n",
       " 'Pacaembu',\n",
       " 'Pinheiros',\n",
       " 'Ipiranga',\n",
       " 'Belém',\n",
       " 'Casa Verde',\n",
       " 'Itaim Bibi',\n",
       " 'Sumaré',\n",
       " 'Vila Guilherme',\n",
       " 'Canindé',\n",
       " 'Vila Pompéia',\n",
       " 'Jardim Anália Franco',\n",
       " 'Vila Nova Conceição',\n",
       " 'Vila Clementino',\n",
       " 'Pari',\n",
       " 'Vila Maria',\n",
       " 'Santana',\n",
       " 'Vila Madalena',\n",
       " 'Tatuapé',\n",
       " 'Vila Olímpia',\n",
       " 'Bosque da Saúde',\n",
       " 'Chácara Inglesa',\n",
       " 'Vila Ede',\n",
       " 'Água Branca',\n",
       " 'Moema',\n",
       " 'Vila Romana',\n",
       " 'Vila Prudente',\n",
       " 'Vila Invernada',\n",
       " 'Saúde',\n",
       " 'Água Fria',\n",
       " 'Jardim Europa',\n",
       " 'Alto de Pinheiros',\n",
       " 'Vila das Mercês',\n",
       " 'Jardim Paulistano',\n",
       " 'Lapa',\n",
       " 'Sacomã',\n",
       " 'Brooklin',\n",
       " 'Vila Santa Clara',\n",
       " 'Jardim América',\n",
       " 'Parque Novo Mundo',\n",
       " 'Mandaqui',\n",
       " 'Vila Mazzei',\n",
       " 'Jardim Brasil',\n",
       " 'Vila Nova Cachoeirinha',\n",
       " 'Planalto Paulista',\n",
       " 'Freguesia do Ó',\n",
       " 'Vila Gustavo',\n",
       " 'Campo Belo',\n",
       " 'Jardim Independência',\n",
       " 'Vila Santa Maria',\n",
       " 'Cidade Jardim',\n",
       " 'Jabaquara',\n",
       " 'Casa Verde Alta',\n",
       " 'Vila Diva',\n",
       " 'Real Parque',\n",
       " 'São João Clímaco',\n",
       " 'Vila Roque',\n",
       " 'Sítio do Mandaqui',\n",
       " 'Vila Prado',\n",
       " 'Vila Constança',\n",
       " 'Vila Amália',\n",
       " 'Piqueri',\n",
       " 'Jardim Avelino',\n",
       " 'Jardim Santa Emília',\n",
       " 'Butantã',\n",
       " 'Jardim Guedala',\n",
       " 'Chácara Santo Antonio',\n",
       " 'Vila Santista',\n",
       " 'Vila Mascote',\n",
       " 'Santa Paula']"
      ]
     },
     "execution_count": 16,
     "metadata": {},
     "output_type": "execute_result"
    }
   ],
   "source": [
    "#alguns nomes de regiões estão com \\xa0 no fim\n",
    "db['fields.regiao_nome'] = db['fields.regiao_nome'].str.replace(u'\\xa0', u'')\n",
    "db['fields.regiao_nome'].unique().tolist()"
   ]
  },
  {
   "cell_type": "code",
   "execution_count": 17,
   "metadata": {},
   "outputs": [
    {
     "data": {
      "text/html": [
       "<div>\n",
       "<style scoped>\n",
       "    .dataframe tbody tr th:only-of-type {\n",
       "        vertical-align: middle;\n",
       "    }\n",
       "\n",
       "    .dataframe tbody tr th {\n",
       "        vertical-align: top;\n",
       "    }\n",
       "\n",
       "    .dataframe thead th {\n",
       "        text-align: right;\n",
       "    }\n",
       "</style>\n",
       "<table border=\"1\" class=\"dataframe\">\n",
       "  <thead>\n",
       "    <tr style=\"text-align: right;\">\n",
       "      <th></th>\n",
       "      <th>id</th>\n",
       "      <th>fields.quartos</th>\n",
       "      <th>fields.endereco</th>\n",
       "      <th>fields.tipo</th>\n",
       "      <th>fields.area</th>\n",
       "      <th>fields.for_rent</th>\n",
       "      <th>fields.sale_price</th>\n",
       "      <th>fields.aluguel</th>\n",
       "      <th>fields.custo</th>\n",
       "      <th>fields.cidade</th>\n",
       "      <th>fields.visit_status</th>\n",
       "      <th>fields.for_sale</th>\n",
       "      <th>fields.condo_iptu</th>\n",
       "      <th>fields.vagas</th>\n",
       "      <th>fields.listing_tags</th>\n",
       "      <th>fields.regiao_nome</th>\n",
       "    </tr>\n",
       "  </thead>\n",
       "  <tbody>\n",
       "    <tr>\n",
       "      <th>7629</th>\n",
       "      <td>893247966</td>\n",
       "      <td>3</td>\n",
       "      <td>Avenida Miruna</td>\n",
       "      <td>Casa</td>\n",
       "      <td>150</td>\n",
       "      <td>True</td>\n",
       "      <td>1740000</td>\n",
       "      <td>false</td>\n",
       "      <td>false</td>\n",
       "      <td>São Paulo</td>\n",
       "      <td>ACCEPT_NEW</td>\n",
       "      <td>True</td>\n",
       "      <td>false</td>\n",
       "      <td>3</td>\n",
       "      <td>[\"NEW_AD\"]</td>\n",
       "      <td>Moema</td>\n",
       "    </tr>\n",
       "  </tbody>\n",
       "</table>\n",
       "</div>"
      ],
      "text/plain": [
       "             id fields.quartos fields.endereco fields.tipo fields.area  \\\n",
       "7629  893247966              3  Avenida Miruna        Casa         150   \n",
       "\n",
       "      fields.for_rent fields.sale_price fields.aluguel fields.custo  \\\n",
       "7629             True           1740000          false        false   \n",
       "\n",
       "     fields.cidade fields.visit_status  fields.for_sale fields.condo_iptu  \\\n",
       "7629     São Paulo          ACCEPT_NEW             True             false   \n",
       "\n",
       "     fields.vagas fields.listing_tags fields.regiao_nome  \n",
       "7629            3          [\"NEW_AD\"]              Moema  "
      ]
     },
     "execution_count": 17,
     "metadata": {},
     "output_type": "execute_result"
    }
   ],
   "source": [
    "db[db['fields.custo'] == 'false']"
   ]
  },
  {
   "cell_type": "code",
   "execution_count": 18,
   "metadata": {},
   "outputs": [
    {
     "data": {
      "text/html": [
       "<div>\n",
       "<style scoped>\n",
       "    .dataframe tbody tr th:only-of-type {\n",
       "        vertical-align: middle;\n",
       "    }\n",
       "\n",
       "    .dataframe tbody tr th {\n",
       "        vertical-align: top;\n",
       "    }\n",
       "\n",
       "    .dataframe thead th {\n",
       "        text-align: right;\n",
       "    }\n",
       "</style>\n",
       "<table border=\"1\" class=\"dataframe\">\n",
       "  <thead>\n",
       "    <tr style=\"text-align: right;\">\n",
       "      <th></th>\n",
       "      <th>id</th>\n",
       "      <th>fields.quartos</th>\n",
       "      <th>fields.endereco</th>\n",
       "      <th>fields.tipo</th>\n",
       "      <th>fields.area</th>\n",
       "      <th>fields.for_rent</th>\n",
       "      <th>fields.sale_price</th>\n",
       "      <th>fields.aluguel</th>\n",
       "      <th>fields.custo</th>\n",
       "      <th>fields.cidade</th>\n",
       "      <th>fields.visit_status</th>\n",
       "      <th>fields.for_sale</th>\n",
       "      <th>fields.condo_iptu</th>\n",
       "      <th>fields.vagas</th>\n",
       "      <th>fields.listing_tags</th>\n",
       "      <th>fields.regiao_nome</th>\n",
       "    </tr>\n",
       "  </thead>\n",
       "  <tbody>\n",
       "    <tr>\n",
       "      <th>9170</th>\n",
       "      <td>893213819</td>\n",
       "      <td>2</td>\n",
       "      <td>Rua Alagoas</td>\n",
       "      <td>Apartamento</td>\n",
       "      <td>72</td>\n",
       "      <td>True</td>\n",
       "      <td>false</td>\n",
       "      <td>3097</td>\n",
       "      <td>3980</td>\n",
       "      <td>São Caetano do Sul</td>\n",
       "      <td>ACCEPT_NEW</td>\n",
       "      <td>False</td>\n",
       "      <td>782</td>\n",
       "      <td>true</td>\n",
       "      <td>[\"NEW_AD\"]</td>\n",
       "      <td>Centro</td>\n",
       "    </tr>\n",
       "    <tr>\n",
       "      <th>10006</th>\n",
       "      <td>893248803</td>\n",
       "      <td>3</td>\n",
       "      <td>Rua Rafael Correa Sampaio</td>\n",
       "      <td>Apartamento</td>\n",
       "      <td>176</td>\n",
       "      <td>True</td>\n",
       "      <td>false</td>\n",
       "      <td>3774</td>\n",
       "      <td>4948</td>\n",
       "      <td>São Caetano do Sul</td>\n",
       "      <td>ACCEPT_NEW</td>\n",
       "      <td>False</td>\n",
       "      <td>1051</td>\n",
       "      <td>2</td>\n",
       "      <td>[\"NEW_AD\"]</td>\n",
       "      <td>Santa Paula</td>\n",
       "    </tr>\n",
       "  </tbody>\n",
       "</table>\n",
       "</div>"
      ],
      "text/plain": [
       "              id fields.quartos            fields.endereco  fields.tipo  \\\n",
       "9170   893213819              2                Rua Alagoas  Apartamento   \n",
       "10006  893248803              3  Rua Rafael Correa Sampaio  Apartamento   \n",
       "\n",
       "      fields.area  fields.for_rent fields.sale_price fields.aluguel  \\\n",
       "9170           72             True             false           3097   \n",
       "10006         176             True             false           3774   \n",
       "\n",
       "      fields.custo       fields.cidade fields.visit_status  fields.for_sale  \\\n",
       "9170          3980  São Caetano do Sul          ACCEPT_NEW            False   \n",
       "10006         4948  São Caetano do Sul          ACCEPT_NEW            False   \n",
       "\n",
       "      fields.condo_iptu fields.vagas fields.listing_tags fields.regiao_nome  \n",
       "9170                782         true          [\"NEW_AD\"]             Centro  \n",
       "10006              1051            2          [\"NEW_AD\"]        Santa Paula  "
      ]
     },
     "execution_count": 18,
     "metadata": {},
     "output_type": "execute_result"
    }
   ],
   "source": [
    "#Existem dois imóveis de fora de São Paulo\n",
    "db[db['fields.cidade']!=\"São Paulo\"]"
   ]
  },
  {
   "cell_type": "markdown",
   "metadata": {},
   "source": [
    "A partir disso já temos algumas idéias de substituições que podemos fazer:\n",
    "- fields.quartos\n",
    "    'true': 1 quarto → conferido no site do QuintoAndar\n",
    "- fields.area\n",
    "    'true': media ou mediana dos valores válidos\n",
    "    'false': media ou mediana dos valores válidos\n",
    "- fields.sale_price\n",
    "    'true': NaN\n",
    "- fields.sale_price\n",
    "    'false': NaN\n",
    "- fields.aluguel\n",
    "    'false': Remover\n",
    "- fields.custo\n",
    "    'false': Remover\n",
    "- fields.cidade\n",
    "    'São Caetano do Sul': Remover\n",
    "- fields.condo_iptu\n",
    "    'false': 0,\n",
    "    'true': 0 → conferido que são imóveis em que não se cobra iptu nem condominio (maioria KitNets)\n",
    "- fields.vagas\n",
    "    'true': 1\n",
    "    'false': 0\n",
    "- fields.regiao_nome\n",
    "    Corrigir valores com '\\xa0'"
   ]
  },
  {
   "cell_type": "code",
   "execution_count": 19,
   "metadata": {},
   "outputs": [],
   "source": [
    "#substituindo colunas: quartos, sale_price, condo_iptu, vagas\n",
    "db.replace({'fields.quartos':{'true':1},'fields.sale_price':{'true':np.nan,'false':np.nan},'fields.condo_iptu':{'true':0,'false':0},'fields.vagas':{'true':1,'false':0}}, inplace=True)"
   ]
  },
  {
   "cell_type": "code",
   "execution_count": 20,
   "metadata": {},
   "outputs": [
    {
     "name": "stdout",
     "output_type": "stream",
     "text": [
      "Quartos: \n",
      " int64\n",
      "Sale_price: \n",
      " float64\n",
      "count    2.653000e+03\n",
      "mean     1.652338e+06\n",
      "std      2.005503e+07\n",
      "min      1.000000e+02\n",
      "25%      4.300000e+05\n",
      "50%      7.200000e+05\n",
      "75%      1.250000e+06\n",
      "max      9.070000e+08\n",
      "Name: fields.sale_price, dtype: float64\n",
      "CondoIPTU: \n",
      " float64\n",
      "count     10034.000000\n",
      "mean       1327.571557\n",
      "std        9117.059967\n",
      "min           0.000000\n",
      "25%         450.000000\n",
      "50%         807.500000\n",
      "75%        1457.000000\n",
      "max      694617.000000\n",
      "Name: fields.condo_iptu, dtype: float64\n",
      "Vagas: \n",
      " int64\n"
     ]
    }
   ],
   "source": [
    "db['fields.quartos'] = db['fields.quartos'].astype('int64')\n",
    "print('Quartos: \\n',db['fields.quartos'].dtype)\n",
    "\n",
    "db['fields.sale_price'] = db['fields.sale_price'].astype('float')\n",
    "print('Sale_price: \\n',db['fields.sale_price'].dtype)\n",
    "print(db['fields.sale_price'].describe())\n",
    "\n",
    "db['fields.condo_iptu'] = db['fields.condo_iptu'].astype('float')\n",
    "print('CondoIPTU: \\n',db['fields.condo_iptu'].dtype)\n",
    "print(db['fields.condo_iptu'].describe())\n",
    "\n",
    "db['fields.vagas'] = db['fields.vagas'].astype('int64')\n",
    "print('Vagas: \\n',db['fields.vagas'].dtype)"
   ]
  },
  {
   "cell_type": "code",
   "execution_count": 21,
   "metadata": {},
   "outputs": [
    {
     "data": {
      "text/html": [
       "<div>\n",
       "<style scoped>\n",
       "    .dataframe tbody tr th:only-of-type {\n",
       "        vertical-align: middle;\n",
       "    }\n",
       "\n",
       "    .dataframe tbody tr th {\n",
       "        vertical-align: top;\n",
       "    }\n",
       "\n",
       "    .dataframe thead th {\n",
       "        text-align: right;\n",
       "    }\n",
       "</style>\n",
       "<table border=\"1\" class=\"dataframe\">\n",
       "  <thead>\n",
       "    <tr style=\"text-align: right;\">\n",
       "      <th></th>\n",
       "      <th>id</th>\n",
       "      <th>fields.quartos</th>\n",
       "      <th>fields.endereco</th>\n",
       "      <th>fields.tipo</th>\n",
       "      <th>fields.area</th>\n",
       "      <th>fields.for_rent</th>\n",
       "      <th>fields.sale_price</th>\n",
       "      <th>fields.aluguel</th>\n",
       "      <th>fields.custo</th>\n",
       "      <th>fields.cidade</th>\n",
       "      <th>fields.visit_status</th>\n",
       "      <th>fields.for_sale</th>\n",
       "      <th>fields.condo_iptu</th>\n",
       "      <th>fields.vagas</th>\n",
       "      <th>fields.listing_tags</th>\n",
       "      <th>fields.regiao_nome</th>\n",
       "    </tr>\n",
       "  </thead>\n",
       "  <tbody>\n",
       "    <tr>\n",
       "      <th>5066</th>\n",
       "      <td>892888709</td>\n",
       "      <td>1</td>\n",
       "      <td>Rua Dona Veridiana</td>\n",
       "      <td>StudioOuKitchenette</td>\n",
       "      <td>45</td>\n",
       "      <td>True</td>\n",
       "      <td>NaN</td>\n",
       "      <td>1700</td>\n",
       "      <td>2207</td>\n",
       "      <td>São Paulo</td>\n",
       "      <td>ACCEPT_NEW</td>\n",
       "      <td>False</td>\n",
       "      <td>451.0</td>\n",
       "      <td>0</td>\n",
       "      <td>NaN</td>\n",
       "      <td>Santa Cecília</td>\n",
       "    </tr>\n",
       "    <tr>\n",
       "      <th>7627</th>\n",
       "      <td>893019157</td>\n",
       "      <td>1</td>\n",
       "      <td>Rua Doutora Neyde Apparecida Sollitto</td>\n",
       "      <td>StudioOuKitchenette</td>\n",
       "      <td>30</td>\n",
       "      <td>True</td>\n",
       "      <td>NaN</td>\n",
       "      <td>1350</td>\n",
       "      <td>1395</td>\n",
       "      <td>São Paulo</td>\n",
       "      <td>ACCEPT_NEW</td>\n",
       "      <td>False</td>\n",
       "      <td>0.0</td>\n",
       "      <td>0</td>\n",
       "      <td>NaN</td>\n",
       "      <td>Vila Clementino</td>\n",
       "    </tr>\n",
       "  </tbody>\n",
       "</table>\n",
       "</div>"
      ],
      "text/plain": [
       "             id  fields.quartos                        fields.endereco  \\\n",
       "5066  892888709               1                     Rua Dona Veridiana   \n",
       "7627  893019157               1  Rua Doutora Neyde Apparecida Sollitto   \n",
       "\n",
       "              fields.tipo fields.area  fields.for_rent  fields.sale_price  \\\n",
       "5066  StudioOuKitchenette          45             True                NaN   \n",
       "7627  StudioOuKitchenette          30             True                NaN   \n",
       "\n",
       "     fields.aluguel fields.custo fields.cidade fields.visit_status  \\\n",
       "5066           1700         2207     São Paulo          ACCEPT_NEW   \n",
       "7627           1350         1395     São Paulo          ACCEPT_NEW   \n",
       "\n",
       "      fields.for_sale  fields.condo_iptu  fields.vagas fields.listing_tags  \\\n",
       "5066            False              451.0             0                 NaN   \n",
       "7627            False                0.0             0                 NaN   \n",
       "\n",
       "     fields.regiao_nome  \n",
       "5066      Santa Cecília  \n",
       "7627    Vila Clementino  "
      ]
     },
     "execution_count": 21,
     "metadata": {},
     "output_type": "execute_result"
    }
   ],
   "source": [
    "db[db['fields.sale_price'].isna()].sample(2)"
   ]
  },
  {
   "cell_type": "code",
   "execution_count": 22,
   "metadata": {},
   "outputs": [
    {
     "data": {
      "text/plain": [
       "mean    93.221192\n",
       "50%     62.000000\n",
       "Name: fields.area, dtype: float64"
      ]
     },
     "execution_count": 22,
     "metadata": {},
     "output_type": "execute_result"
    }
   ],
   "source": [
    "# escolhendo entre média ou mediana da área dos aptos\n",
    "db[(db['fields.area'] != 'true') & (db['fields.area'] != 'false')]['fields.area'].astype('float').describe()[['mean','50%']]"
   ]
  },
  {
   "cell_type": "code",
   "execution_count": 23,
   "metadata": {},
   "outputs": [
    {
     "name": "stdout",
     "output_type": "stream",
     "text": [
      "Area: \n",
      " float64\n",
      "count    10034.000000\n",
      "mean        93.221148\n",
      "std         89.511964\n",
      "min         10.000000\n",
      "25%         40.000000\n",
      "50%         62.000000\n",
      "75%        110.000000\n",
      "max       1200.000000\n",
      "Name: fields.area, dtype: float64\n"
     ]
    }
   ],
   "source": [
    "# decidi optar pelo maior valor (mediana) por um dos dois anúncios ser uma casa grande\n",
    "db['fields.area'].replace('true',93,inplace=True)\n",
    "db['fields.area'].replace('false',93,inplace=True)\n",
    "db['fields.area'] = db['fields.area'].astype('float')\n",
    "print('Area: \\n',db['fields.area'].dtype)\n",
    "print(db['fields.area'].describe())"
   ]
  },
  {
   "cell_type": "code",
   "execution_count": 24,
   "metadata": {},
   "outputs": [],
   "source": [
    "# aluguel 'false': Remover\n",
    "db = db[db['fields.aluguel'] != 'false']"
   ]
  },
  {
   "cell_type": "code",
   "execution_count": 25,
   "metadata": {},
   "outputs": [
    {
     "name": "stdout",
     "output_type": "stream",
     "text": [
      "Aluguel: \n",
      " float64\n",
      "count    10031.00\n",
      "mean      3627.24\n",
      "std       2727.27\n",
      "min        500.00\n",
      "25%       1900.00\n",
      "50%       2780.00\n",
      "75%       4300.00\n",
      "max      17432.00\n",
      "Name: fields.aluguel, dtype: float64\n"
     ]
    }
   ],
   "source": [
    "db['fields.aluguel'] = db['fields.aluguel'].astype('float')\n",
    "print('Aluguel: \\n',db['fields.aluguel'].dtype)\n",
    "print(db['fields.aluguel'].describe().round(2))"
   ]
  },
  {
   "cell_type": "code",
   "execution_count": 26,
   "metadata": {},
   "outputs": [
    {
     "name": "stdout",
     "output_type": "stream",
     "text": [
      "Custo: \n",
      " float64\n",
      "count     10031.00\n",
      "mean       5071.92\n",
      "std        9826.28\n",
      "min         643.00\n",
      "25%        2591.00\n",
      "50%        3765.00\n",
      "75%        5809.50\n",
      "max      702422.00\n",
      "Name: fields.custo, dtype: float64\n"
     ]
    }
   ],
   "source": [
    "# custo 'false': Remover\n",
    "db = db[db['fields.custo'] != 'false']\n",
    "db['fields.custo'] = db['fields.custo'].astype('float')\n",
    "print('Custo: \\n',db['fields.custo'].dtype)\n",
    "print(db['fields.custo'].describe().round(2))"
   ]
  },
  {
   "cell_type": "code",
   "execution_count": 27,
   "metadata": {},
   "outputs": [
    {
     "data": {
      "text/html": [
       "<div>\n",
       "<style scoped>\n",
       "    .dataframe tbody tr th:only-of-type {\n",
       "        vertical-align: middle;\n",
       "    }\n",
       "\n",
       "    .dataframe tbody tr th {\n",
       "        vertical-align: top;\n",
       "    }\n",
       "\n",
       "    .dataframe thead th {\n",
       "        text-align: right;\n",
       "    }\n",
       "</style>\n",
       "<table border=\"1\" class=\"dataframe\">\n",
       "  <thead>\n",
       "    <tr style=\"text-align: right;\">\n",
       "      <th></th>\n",
       "      <th>id</th>\n",
       "      <th>fields.quartos</th>\n",
       "      <th>fields.endereco</th>\n",
       "      <th>fields.tipo</th>\n",
       "      <th>fields.area</th>\n",
       "      <th>fields.for_rent</th>\n",
       "      <th>fields.sale_price</th>\n",
       "      <th>fields.aluguel</th>\n",
       "      <th>fields.custo</th>\n",
       "      <th>fields.cidade</th>\n",
       "      <th>fields.visit_status</th>\n",
       "      <th>fields.for_sale</th>\n",
       "      <th>fields.condo_iptu</th>\n",
       "      <th>fields.vagas</th>\n",
       "      <th>fields.listing_tags</th>\n",
       "      <th>fields.regiao_nome</th>\n",
       "    </tr>\n",
       "  </thead>\n",
       "  <tbody>\n",
       "  </tbody>\n",
       "</table>\n",
       "</div>"
      ],
      "text/plain": [
       "Empty DataFrame\n",
       "Columns: [id, fields.quartos, fields.endereco, fields.tipo, fields.area, fields.for_rent, fields.sale_price, fields.aluguel, fields.custo, fields.cidade, fields.visit_status, fields.for_sale, fields.condo_iptu, fields.vagas, fields.listing_tags, fields.regiao_nome]\n",
       "Index: []"
      ]
     },
     "execution_count": 27,
     "metadata": {},
     "output_type": "execute_result"
    }
   ],
   "source": [
    "#cidade != SP\n",
    "db = db[db['fields.cidade']==\"São Paulo\"]\n",
    "db[db['fields.cidade']!=\"São Paulo\"]"
   ]
  },
  {
   "cell_type": "code",
   "execution_count": 28,
   "metadata": {},
   "outputs": [],
   "source": [
    "# selecionando as colunas por tipo de variáriavel\n",
    "# lembrando que a coluna sale_price tem valores NaN quando não está à venda.\n",
    "numericas = ['fields.quartos','fields.area','fields.sale_price','fields.aluguel','fields.custo','fields.condo_iptu','fields.vagas']\n",
    "categoricas = ['fields.tipo','fields.for_rent','fields.cidade','fields.for_sale','fields.listing_tags','fields.regiao_nome']\n",
    "outras = ['id','fields.endereco','fields.sale_price']"
   ]
  },
  {
   "cell_type": "markdown",
   "metadata": {},
   "source": [
    "#### Variáveis Numéricas"
   ]
  },
  {
   "cell_type": "code",
   "execution_count": 29,
   "metadata": {},
   "outputs": [
    {
     "data": {
      "text/html": [
       "<div>\n",
       "<style scoped>\n",
       "    .dataframe tbody tr th:only-of-type {\n",
       "        vertical-align: middle;\n",
       "    }\n",
       "\n",
       "    .dataframe tbody tr th {\n",
       "        vertical-align: top;\n",
       "    }\n",
       "\n",
       "    .dataframe thead th {\n",
       "        text-align: right;\n",
       "    }\n",
       "</style>\n",
       "<table border=\"1\" class=\"dataframe\">\n",
       "  <thead>\n",
       "    <tr style=\"text-align: right;\">\n",
       "      <th></th>\n",
       "      <th>fields.quartos</th>\n",
       "      <th>fields.area</th>\n",
       "      <th>fields.sale_price</th>\n",
       "      <th>fields.aluguel</th>\n",
       "      <th>fields.custo</th>\n",
       "      <th>fields.condo_iptu</th>\n",
       "      <th>fields.vagas</th>\n",
       "    </tr>\n",
       "  </thead>\n",
       "  <tbody>\n",
       "    <tr>\n",
       "      <th>count</th>\n",
       "      <td>10029.00</td>\n",
       "      <td>10029.00</td>\n",
       "      <td>2650.00</td>\n",
       "      <td>10029.00</td>\n",
       "      <td>10029.00</td>\n",
       "      <td>10029.00</td>\n",
       "      <td>10029.00</td>\n",
       "    </tr>\n",
       "    <tr>\n",
       "      <th>mean</th>\n",
       "      <td>1.96</td>\n",
       "      <td>93.20</td>\n",
       "      <td>1652934.97</td>\n",
       "      <td>3627.28</td>\n",
       "      <td>5072.04</td>\n",
       "      <td>1327.92</td>\n",
       "      <td>1.13</td>\n",
       "    </tr>\n",
       "    <tr>\n",
       "      <th>std</th>\n",
       "      <td>1.08</td>\n",
       "      <td>89.53</td>\n",
       "      <td>20066367.66</td>\n",
       "      <td>2727.54</td>\n",
       "      <td>9827.25</td>\n",
       "      <td>9119.31</td>\n",
       "      <td>1.19</td>\n",
       "    </tr>\n",
       "    <tr>\n",
       "      <th>min</th>\n",
       "      <td>1.00</td>\n",
       "      <td>10.00</td>\n",
       "      <td>100.00</td>\n",
       "      <td>500.00</td>\n",
       "      <td>643.00</td>\n",
       "      <td>0.00</td>\n",
       "      <td>0.00</td>\n",
       "    </tr>\n",
       "    <tr>\n",
       "      <th>25%</th>\n",
       "      <td>1.00</td>\n",
       "      <td>40.00</td>\n",
       "      <td>430000.00</td>\n",
       "      <td>1900.00</td>\n",
       "      <td>2591.00</td>\n",
       "      <td>450.00</td>\n",
       "      <td>0.00</td>\n",
       "    </tr>\n",
       "    <tr>\n",
       "      <th>50%</th>\n",
       "      <td>2.00</td>\n",
       "      <td>62.00</td>\n",
       "      <td>720000.00</td>\n",
       "      <td>2780.00</td>\n",
       "      <td>3765.00</td>\n",
       "      <td>808.00</td>\n",
       "      <td>1.00</td>\n",
       "    </tr>\n",
       "    <tr>\n",
       "      <th>75%</th>\n",
       "      <td>3.00</td>\n",
       "      <td>110.00</td>\n",
       "      <td>1250000.00</td>\n",
       "      <td>4300.00</td>\n",
       "      <td>5810.00</td>\n",
       "      <td>1457.00</td>\n",
       "      <td>1.00</td>\n",
       "    </tr>\n",
       "    <tr>\n",
       "      <th>max</th>\n",
       "      <td>14.00</td>\n",
       "      <td>1200.00</td>\n",
       "      <td>907000000.00</td>\n",
       "      <td>17432.00</td>\n",
       "      <td>702422.00</td>\n",
       "      <td>694617.00</td>\n",
       "      <td>20.00</td>\n",
       "    </tr>\n",
       "  </tbody>\n",
       "</table>\n",
       "</div>"
      ],
      "text/plain": [
       "      fields.quartos fields.area fields.sale_price fields.aluguel  \\\n",
       "count       10029.00    10029.00           2650.00       10029.00   \n",
       "mean            1.96       93.20        1652934.97        3627.28   \n",
       "std             1.08       89.53       20066367.66        2727.54   \n",
       "min             1.00       10.00            100.00         500.00   \n",
       "25%             1.00       40.00         430000.00        1900.00   \n",
       "50%             2.00       62.00         720000.00        2780.00   \n",
       "75%             3.00      110.00        1250000.00        4300.00   \n",
       "max            14.00     1200.00      907000000.00       17432.00   \n",
       "\n",
       "      fields.custo fields.condo_iptu fields.vagas  \n",
       "count     10029.00          10029.00     10029.00  \n",
       "mean       5072.04           1327.92         1.13  \n",
       "std        9827.25           9119.31         1.19  \n",
       "min         643.00              0.00         0.00  \n",
       "25%        2591.00            450.00         0.00  \n",
       "50%        3765.00            808.00         1.00  \n",
       "75%        5810.00           1457.00         1.00  \n",
       "max      702422.00         694617.00        20.00  "
      ]
     },
     "execution_count": 29,
     "metadata": {},
     "output_type": "execute_result"
    }
   ],
   "source": [
    "db[numericas].describe().apply(lambda s: s.apply('{0:.2f}'.format))"
   ]
  },
  {
   "cell_type": "code",
   "execution_count": 30,
   "metadata": {},
   "outputs": [
    {
     "data": {
      "text/plain": [
       "count    10029.000000\n",
       "mean        22.743164\n",
       "std         12.471554\n",
       "min          0.000000\n",
       "25%         15.270634\n",
       "50%         21.895885\n",
       "75%         29.259418\n",
       "max         99.332667\n",
       "dtype: float64"
      ]
     },
     "execution_count": 30,
     "metadata": {},
     "output_type": "execute_result"
    }
   ],
   "source": [
    "# A partir do acima, decidi conferir o peso do condo_iptu no custo final.\n",
    "(db['fields.condo_iptu']/db['fields.custo']*100).describe()"
   ]
  },
  {
   "cell_type": "markdown",
   "metadata": {},
   "source": [
    "A princípio, podemos extrair que:\n",
    "- Metade dos imóveis não chegam a mais de 62m²\n",
    "- 50% dos imóveis pagam menos de R$807.50 de IPTU+Condominio\n",
    "- Menos da metade dos imóveis não tem vaga na garagem\n",
    "- Os gastos com Condomínio e IPTU em média são ~23% do custo final de se alugar um imóvel"
   ]
  },
  {
   "cell_type": "code",
   "execution_count": 31,
   "metadata": {},
   "outputs": [
    {
     "data": {
      "image/png": "[encoded data removed]",
      "text/plain": [
       "<Figure size 864x576 with 2 Axes>"
      ]
     },
     "metadata": {
      "needs_background": "light"
     },
     "output_type": "display_data"
    }
   ],
   "source": [
    "fig, axes = plt.subplots(1,2, sharex=True, figsize=(12,8))\n",
    "#bplt = plt.figure()\n",
    "bplt = sns.boxplot(ax=axes[0],data = db['fields.custo'],width=0.2, palette = 'crest',\n",
    "                linewidth = 0.5,showfliers=False)\n",
    "bplt = sns.violinplot(ax=axes[1],data = db['fields.condo_iptu']/db['fields.custo']*100,width=0.2, palette = 'crest',\n",
    "                linewidth = 1,showfliers=False, inner='quartile')\n",
    "bplt = sns.boxplot(ax=axes[1],data = db['fields.condo_iptu']/db['fields.custo']*100,width=0.1,\n",
    "                linewidth = 2,showfliers=False, showcaps=False, boxprops={'alpha':0.8,\"zorder\":10}, whiskerprops={\"zorder\":10})\n",
    "\n",
    "\n",
    "fig.suptitle('''BOXPLOT\n",
    "RELAÇÃO IPTU+CONDO COM CUSTO FINAL\n",
    "(Sem outliers para facilitar a visualização)''',\n",
    "         fontsize = 10, color ='dimgrey', fontweight = 'bold')\n",
    "\n",
    "axes[0].set_title(\"Custo final de aluguel (Aluguel + Condomínio + IPTU)\")\n",
    "axes[1].set_title(\"% de peso do Condomínio + IPTU no Custo Final\")\n",
    "\n",
    "sns.despine(bottom = True, left=True)\n",
    "\n",
    "axes[0].grid(True)\n",
    "axes[1].grid(True)\n",
    "\n",
    "plt.xticks([])\n",
    "axes[0].yaxis.set_major_formatter(mtick.StrMethodFormatter('R$ {x}'))\n",
    "axes[1].yaxis.set_major_formatter(mtick.PercentFormatter())"
   ]
  },
  {
   "cell_type": "code",
   "execution_count": 32,
   "metadata": {},
   "outputs": [
    {
     "data": {
      "image/png": "[encoded data removed]",
      "text/plain": [
       "<Figure size 432x288 with 1 Axes>"
      ]
     },
     "metadata": {
      "needs_background": "light"
     },
     "output_type": "display_data"
    }
   ],
   "source": [
    "bplt = plt.figure()\n",
    "bplt = sns.violinplot(data = db['fields.custo'],width=0.2, palette = 'crest',\n",
    "                linewidth = 0.5,showfliers=False)\n",
    "\n",
    "\n",
    "plt.title('''BOXPLOT\n",
    "PESO DE IPTU E CONDOMÍNIO NO CUSTO FINAL''',\n",
    "         fontsize = 10, color ='dimgrey', fontweight = 'bold')\n",
    "\n",
    "sns.despine(bottom = True, left=True)\n",
    "\n",
    "plt.xticks([])\n",
    "bplt.yaxis.set_major_formatter(mtick.PercentFormatter())"
   ]
  },
  {
   "cell_type": "code",
   "execution_count": 33,
   "metadata": {},
   "outputs": [
    {
     "data": {
      "image/png": "[encoded data removed]",
      "text/plain": [
       "<Figure size 864x576 with 2 Axes>"
      ]
     },
     "metadata": {
      "needs_background": "light"
     },
     "output_type": "display_data"
    }
   ],
   "source": [
    "fig, axes = plt.subplots(1,2, sharex=True, figsize=(12,8))\n",
    "bplt = sns.boxplot(ax=axes[0],data = db['fields.area'],width=0.2, palette = 'crest',\n",
    "                linewidth = 0.5,showfliers=True)\n",
    "bplt2 = sns.boxplot(ax=axes[1],data = db['fields.area'],width=0.2, palette = 'crest',\n",
    "                linewidth = 0.5,showfliers=False)\n",
    "\n",
    "fig.suptitle('''BOXPLOT\n",
    "METRAGEM DOS IMÓVEIS''',\n",
    "         fontsize = 10, color ='dimgrey', fontweight = 'bold')\n",
    "\n",
    "axes[0].set_title(\"Com Outliers inclusos\")\n",
    "axes[1].set_title(\"Sem incluir outliers\")\n",
    "\n",
    "sns.despine(bottom = True, left=True)\n",
    "\n",
    "plt.xticks([])\n",
    "axes[0].yaxis.set_major_formatter(mtick.StrMethodFormatter('{x} m²'))\n",
    "axes[1].yaxis.set_major_formatter(mtick.StrMethodFormatter('{x} m²'))"
   ]
  },
  {
   "cell_type": "markdown",
   "metadata": {},
   "source": [
    "- Interpretação:\n",
    "    Como esperado, a metragem mais comum de imóveis costuma ser de 40 à 100 m². Uma possibilidade de explicar a quantidade alta de outliers seria o caso de casas e apartementos \"duplex\" e \"triplex\"."
   ]
  },
  {
   "cell_type": "markdown",
   "metadata": {},
   "source": [
    "#### Variáveis Categóricas"
   ]
  },
  {
   "cell_type": "code",
   "execution_count": 34,
   "metadata": {},
   "outputs": [
    {
     "data": {
      "text/html": [
       "<div>\n",
       "<style scoped>\n",
       "    .dataframe tbody tr th:only-of-type {\n",
       "        vertical-align: middle;\n",
       "    }\n",
       "\n",
       "    .dataframe tbody tr th {\n",
       "        vertical-align: top;\n",
       "    }\n",
       "\n",
       "    .dataframe thead th {\n",
       "        text-align: right;\n",
       "    }\n",
       "</style>\n",
       "<table border=\"1\" class=\"dataframe\">\n",
       "  <thead>\n",
       "    <tr style=\"text-align: right;\">\n",
       "      <th></th>\n",
       "      <th>fields.tipo</th>\n",
       "      <th>fields.for_rent</th>\n",
       "      <th>fields.cidade</th>\n",
       "      <th>fields.for_sale</th>\n",
       "      <th>fields.listing_tags</th>\n",
       "      <th>fields.regiao_nome</th>\n",
       "    </tr>\n",
       "  </thead>\n",
       "  <tbody>\n",
       "    <tr>\n",
       "      <th>count</th>\n",
       "      <td>10029</td>\n",
       "      <td>10029</td>\n",
       "      <td>10029</td>\n",
       "      <td>10029</td>\n",
       "      <td>3312</td>\n",
       "      <td>10029</td>\n",
       "    </tr>\n",
       "    <tr>\n",
       "      <th>unique</th>\n",
       "      <td>4</td>\n",
       "      <td>1</td>\n",
       "      <td>1</td>\n",
       "      <td>2</td>\n",
       "      <td>11</td>\n",
       "      <td>84</td>\n",
       "    </tr>\n",
       "    <tr>\n",
       "      <th>top</th>\n",
       "      <td>Apartamento</td>\n",
       "      <td>True</td>\n",
       "      <td>São Paulo</td>\n",
       "      <td>False</td>\n",
       "      <td>[\"NEW_AD\"]</td>\n",
       "      <td>Jardim Paulista</td>\n",
       "    </tr>\n",
       "    <tr>\n",
       "      <th>freq</th>\n",
       "      <td>7198</td>\n",
       "      <td>10029</td>\n",
       "      <td>10029</td>\n",
       "      <td>7632</td>\n",
       "      <td>1782</td>\n",
       "      <td>769</td>\n",
       "    </tr>\n",
       "  </tbody>\n",
       "</table>\n",
       "</div>"
      ],
      "text/plain": [
       "        fields.tipo fields.for_rent fields.cidade fields.for_sale  \\\n",
       "count         10029           10029         10029           10029   \n",
       "unique            4               1             1               2   \n",
       "top     Apartamento            True     São Paulo           False   \n",
       "freq           7198           10029         10029            7632   \n",
       "\n",
       "       fields.listing_tags fields.regiao_nome  \n",
       "count                 3312              10029  \n",
       "unique                  11                 84  \n",
       "top             [\"NEW_AD\"]    Jardim Paulista  \n",
       "freq                  1782                769  "
      ]
     },
     "execution_count": 34,
     "metadata": {},
     "output_type": "execute_result"
    }
   ],
   "source": [
    "db[categoricas].describe(include=['object', 'bool'])"
   ]
  },
  {
   "cell_type": "code",
   "execution_count": 35,
   "metadata": {},
   "outputs": [
    {
     "name": "stdout",
     "output_type": "stream",
     "text": [
      "Apartamento            7198\n",
      "StudioOuKitchenette    1885\n",
      "Casa                    884\n",
      "CasaCondominio           62\n",
      "Name: fields.tipo, dtype: int64\n"
     ]
    },
    {
     "data": {
      "text/markdown": [
       "<span style='color:None'>*=============================================================================*</span>"
      ],
      "text/plain": [
       "<IPython.core.display.Markdown object>"
      ]
     },
     "metadata": {},
     "output_type": "display_data"
    },
    {
     "name": "stdout",
     "output_type": "stream",
     "text": [
      "True    10029\n",
      "Name: fields.for_rent, dtype: int64\n"
     ]
    },
    {
     "data": {
      "text/markdown": [
       "<span style='color:None'>*=============================================================================*</span>"
      ],
      "text/plain": [
       "<IPython.core.display.Markdown object>"
      ]
     },
     "metadata": {},
     "output_type": "display_data"
    },
    {
     "name": "stdout",
     "output_type": "stream",
     "text": [
      "São Paulo    10029\n",
      "Name: fields.cidade, dtype: int64\n"
     ]
    },
    {
     "data": {
      "text/markdown": [
       "<span style='color:None'>*=============================================================================*</span>"
      ],
      "text/plain": [
       "<IPython.core.display.Markdown object>"
      ]
     },
     "metadata": {},
     "output_type": "display_data"
    },
    {
     "name": "stdout",
     "output_type": "stream",
     "text": [
      "False    7632\n",
      "True     2397\n",
      "Name: fields.for_sale, dtype: int64\n"
     ]
    },
    {
     "data": {
      "text/markdown": [
       "<span style='color:None'>*=============================================================================*</span>"
      ],
      "text/plain": [
       "<IPython.core.display.Markdown object>"
      ]
     },
     "metadata": {},
     "output_type": "display_data"
    },
    {
     "name": "stdout",
     "output_type": "stream",
     "text": [
      "[\"NEW_AD\"]                                                                      1782\n",
      "[\"RENT_PRICE_DECREASED\"]                                                         931\n",
      "[\"RENT_ON_TERMINATION\",\"VISITS_UNAVAILABLE\"]                                     325\n",
      "[\"NEW_AD\",\"RENT_PRICE_DECREASED\"]                                                148\n",
      "[\"RENT_ON_TERMINATION\",\"NEW_AD\",\"VISITS_UNAVAILABLE\"]                             83\n",
      "[\"NEW_AD\",\"VISITS_UNAVAILABLE\"]                                                   10\n",
      "[\"RENT_ON_TERMINATION\"]                                                           10\n",
      "[\"VISITS_UNAVAILABLE\"]                                                             9\n",
      "[\"RENT_ON_TERMINATION\",\"NEW_AD\",\"RENT_PRICE_DECREASED\",\"VISITS_UNAVAILABLE\"]       8\n",
      "[\"RENT_ON_TERMINATION\",\"RENT_PRICE_DECREASED\",\"VISITS_UNAVAILABLE\"]                5\n",
      "[\"RENT_PRICE_DECREASED\",\"VISITS_UNAVAILABLE\"]                                      1\n",
      "Name: fields.listing_tags, dtype: int64\n"
     ]
    },
    {
     "data": {
      "text/markdown": [
       "<span style='color:None'>*=============================================================================*</span>"
      ],
      "text/plain": [
       "<IPython.core.display.Markdown object>"
      ]
     },
     "metadata": {},
     "output_type": "display_data"
    },
    {
     "name": "stdout",
     "output_type": "stream",
     "text": [
      "Jardim Paulista          769\n",
      "Bela Vista               631\n",
      "Consolação               627\n",
      "Santa Cecília            594\n",
      "Moema                    440\n",
      "                        ... \n",
      "Vila Amália                1\n",
      "Piqueri                    1\n",
      "Chácara Santo Antonio      1\n",
      "São João Clímaco           1\n",
      "Vila Constança             1\n",
      "Name: fields.regiao_nome, Length: 84, dtype: int64\n"
     ]
    },
    {
     "data": {
      "text/markdown": [
       "<span style='color:None'>*=============================================================================*</span>"
      ],
      "text/plain": [
       "<IPython.core.display.Markdown object>"
      ]
     },
     "metadata": {},
     "output_type": "display_data"
    }
   ],
   "source": [
    "for i in categoricas:\n",
    "    print(db[i].value_counts())\n",
    "    printmd('*=============================================================================*')"
   ]
  },
  {
   "cell_type": "markdown",
   "metadata": {},
   "source": [
    "Das variáveis categóricas, podemos extrair:\n",
    "- Maioria esmagadora dos imóveis são apartamentos\n",
    "- Confirmado que todos os dados são imóveis para alugar em **SP**\n",
    "- A grande maioria dos imóveis não estão à venda\n",
    "- temos 85 regiões registradas, o que nos abre margem para utilizá-las no ML como feature, talvez até importando dados externos do preço do m² na região"
   ]
  },
  {
   "cell_type": "markdown",
   "metadata": {
    "heading_collapsed": "true"
   },
   "source": [
    "#### Outras"
   ]
  },
  {
   "cell_type": "code",
   "execution_count": 36,
   "metadata": {},
   "outputs": [
    {
     "data": {
      "text/html": [
       "<div>\n",
       "<style scoped>\n",
       "    .dataframe tbody tr th:only-of-type {\n",
       "        vertical-align: middle;\n",
       "    }\n",
       "\n",
       "    .dataframe tbody tr th {\n",
       "        vertical-align: top;\n",
       "    }\n",
       "\n",
       "    .dataframe thead th {\n",
       "        text-align: right;\n",
       "    }\n",
       "</style>\n",
       "<table border=\"1\" class=\"dataframe\">\n",
       "  <thead>\n",
       "    <tr style=\"text-align: right;\">\n",
       "      <th></th>\n",
       "      <th>fields.endereco</th>\n",
       "    </tr>\n",
       "  </thead>\n",
       "  <tbody>\n",
       "    <tr>\n",
       "      <th>count</th>\n",
       "      <td>10029</td>\n",
       "    </tr>\n",
       "    <tr>\n",
       "      <th>unique</th>\n",
       "      <td>2551</td>\n",
       "    </tr>\n",
       "    <tr>\n",
       "      <th>top</th>\n",
       "      <td>Rua Bela Cintra</td>\n",
       "    </tr>\n",
       "    <tr>\n",
       "      <th>freq</th>\n",
       "      <td>103</td>\n",
       "    </tr>\n",
       "  </tbody>\n",
       "</table>\n",
       "</div>"
      ],
      "text/plain": [
       "        fields.endereco\n",
       "count             10029\n",
       "unique             2551\n",
       "top     Rua Bela Cintra\n",
       "freq                103"
      ]
     },
     "execution_count": 36,
     "metadata": {},
     "output_type": "execute_result"
    }
   ],
   "source": [
    "db[outras].describe(include=['object', 'bool'])"
   ]
  },
  {
   "cell_type": "markdown",
   "metadata": {},
   "source": [
    "#### Explorações extras"
   ]
  },
  {
   "cell_type": "markdown",
   "metadata": {},
   "source": [
    "Vamos fazer alguns cruzamentos interessantes para explorar mais a fundo os dados:"
   ]
  },
  {
   "cell_type": "code",
   "execution_count": 37,
   "metadata": {},
   "outputs": [
    {
     "data": {
      "image/png": "[encoded data removed]",
      "text/plain": [
       "<Figure size 864x576 with 1 Axes>"
      ]
     },
     "metadata": {
      "needs_background": "light"
     },
     "output_type": "display_data"
    }
   ],
   "source": [
    "#Escolhemos os 15 bairros com mais anúncios\n",
    "\n",
    "bairros = db['fields.regiao_nome'].value_counts().index.tolist()[:15]\n",
    "\n",
    "\n",
    "fig = plt.figure( figsize=(12,8))\n",
    "#bplt = plt.figure()\n",
    "bplt = sns.boxplot(y='fields.custo',x='fields.regiao_nome' ,data = db[db['fields.regiao_nome'].isin(bairros)],\n",
    "                   palette = 'pastel',linewidth = 0.5,showfliers=False)\n",
    "\n",
    "fig.suptitle('''BOXPLOT\n",
    "CUSTO TOTAL ALUGUEL POR BAIRRO\n",
    "(Sem outliers para facilitar a visualização)''',\n",
    "         fontsize = 10, color ='dimgrey', fontweight = 'bold')\n",
    "\n",
    "\n",
    "\n",
    "sns.despine(bottom = True, left=True)\n",
    "\n",
    "bplt.grid(True)\n",
    "bplt.set_xlabel('Bairros')\n",
    "bplt.set_ylabel('Custo final do aluguel com iptu e condomínio')\n",
    "bplt.set_xticklabels(bplt.get_xticklabels(), rotation=30)\n",
    "bplt.yaxis.set_major_formatter(mtick.StrMethodFormatter('R$ {x}'))\n"
   ]
  },
  {
   "cell_type": "markdown",
   "metadata": {},
   "source": [
    "- Possível interpretação: <br>\n",
    "    A parentemente quanto maior a mediana de custo em um bairro, mais variam os mínimos e máximos também. Por exemplo, se comparar-mos o bairro da Mooca, que tem mediana de R\\\\$2.500,00 e o bairro de Moema, que tem mediana acima de R\\\\$5.000,00. É possivel perceber que em Moema os valores máximos e mínimos variam de ~R\\\\$1.500,00 até ~R\\\\$17.500,00, enquanto na Mooca, variam de ~R\\\\$1.250,00 até ~R\\\\$6.250,00"
   ]
  },
  {
   "cell_type": "markdown",
   "metadata": {
    "collapsed": "true",
    "heading_collapsed": "true"
   },
   "source": [
    "## 3. Formulação das hipóteses"
   ]
  },
  {
   "cell_type": "markdown",
   "metadata": {},
   "source": [
    "**A partir do exposto acima, acredito que posso formular algumas hipóteses sobre os dados. Explorar essas hipóteses me auxilia a entender melhor como esse dataset está formado e como as variáveis podem interagir entre si.**\n",
    "\n",
    "- Hipótese 1: A metragem mais comum de imóveis costuma ser de 40 à 100 m². Uma possibilidade de explicar a quantidade alta de outliers seria o caso de casas e apartementos \"duplex\" e \"triplex\".\n",
    "- Hipótese 2: O motivo da relação entre a variação dos custos e as medianas é por fato de bairros mais caros (mediana maior) serem bairros mais atrativos para a população, fazendo com que abram empreendimentos para mais classes sociais.\n",
    "- Hipótese 3: Na verdade, o motivo do caso acima seria pela Área maior.\n",
    "- Hipótese 4: O número de vagas tende a aumentar quando o número de quartos aumenta."
   ]
  },
  {
   "cell_type": "markdown",
   "metadata": {
    "heading_collapsed": "true"
   },
   "source": [
    "### Hipótese 1"
   ]
  },
  {
   "cell_type": "markdown",
   "metadata": {},
   "source": [
    "Não poderemos ter certeza sobre apartamentos \"duplex\" e \"triplex\" pois não há nenhum campo que nos informe o dado, mas poderemos explorar a presença dos outliers por categorias StudioOuKitchenette, Casa e CasaCondominio. Com isso compararemos com a presença dos mesmos nos dados totais."
   ]
  },
  {
   "cell_type": "code",
   "execution_count": 38,
   "metadata": {},
   "outputs": [
    {
     "data": {
      "text/plain": [
       "Apartamento            7198\n",
       "StudioOuKitchenette    1885\n",
       "Casa                    884\n",
       "CasaCondominio           62\n",
       "Name: fields.tipo, dtype: int64"
      ]
     },
     "execution_count": 38,
     "metadata": {},
     "output_type": "execute_result"
    }
   ],
   "source": [
    "#fields.tipo\n",
    "db['fields.tipo'].value_counts()"
   ]
  },
  {
   "cell_type": "code",
   "execution_count": 39,
   "metadata": {},
   "outputs": [
    {
     "data": {
      "image/png": "[encoded data removed]",
      "text/plain": [
       "<Figure size 864x576 with 2 Axes>"
      ]
     },
     "metadata": {
      "needs_background": "light"
     },
     "output_type": "display_data"
    }
   ],
   "source": [
    "studioOuKtc = db[db['fields.tipo']=='StudioOuKitchenette']\n",
    "studioOuKtc = db.rename(columns={'fields.tipo':'tipo'}).query('tipo in [\"StudioOuKitchenette\"]')\n",
    "fig, axes = plt.subplots(1,2, sharex=True, figsize=(12,8))\n",
    "\n",
    "bplt = sns.boxplot(ax=axes[0],data = studioOuKtc['fields.area'].to_frame(),width=0.2, palette = 'crest',\n",
    "                linewidth = 0.5,showfliers=True)\n",
    "bplt2 = sns.boxplot(ax=axes[1],data = studioOuKtc['fields.area'].to_frame(),width=0.2, palette = 'crest',\n",
    "                linewidth = 0.5,showfliers=False)\n",
    "\n",
    "fig.suptitle('''BOXPLOT\n",
    "METRAGEM DOS STUDIOS OU KITCHENETTES''',\n",
    "         fontsize = 10, color ='dimgrey', fontweight = 'bold')\n",
    "\n",
    "axes[0].set_title(\"Com Outliers inclusos\")\n",
    "axes[1].set_title(\"Sem incluir outliers\")\n",
    "\n",
    "sns.despine(bottom = True, left=True)\n",
    "\n",
    "plt.xticks([])\n",
    "axes[0].yaxis.set_major_formatter(mtick.StrMethodFormatter('{x} m²'))\n",
    "axes[1].yaxis.set_major_formatter(mtick.StrMethodFormatter('{x} m²'))"
   ]
  },
  {
   "cell_type": "code",
   "execution_count": 40,
   "metadata": {},
   "outputs": [
    {
     "data": {
      "image/png": "[encoded data removed]",
      "text/plain": [
       "<Figure size 864x576 with 2 Axes>"
      ]
     },
     "metadata": {
      "needs_background": "light"
     },
     "output_type": "display_data"
    }
   ],
   "source": [
    "casa = db.rename(columns={'fields.tipo':'tipo'}).query('tipo in [\"CasaCondominio\",\"Casa\"]')\n",
    "\n",
    "fig, axes = plt.subplots(1,2, sharex=True, figsize=(12,8))\n",
    "#bplt = plt.figure()\n",
    "\n",
    "bplt = sns.boxplot(ax=axes[0],data = casa['fields.area'].reset_index()['fields.area'],width=0.2, palette = 'crest',\n",
    "                linewidth = 0.5,showfliers=True)\n",
    "bplt2 = sns.boxplot(ax=axes[1],data = casa['fields.area'].reset_index()['fields.area'],width=0.2, palette = 'crest',\n",
    "                linewidth = 0.5,showfliers=False)\n",
    "\n",
    "fig.suptitle('''BOXPLOT\n",
    "METRAGEM DAS CASAS''',\n",
    "         fontsize = 10, color ='dimgrey', fontweight = 'bold')\n",
    "\n",
    "axes[0].set_title(\"Com Outliers inclusos\")\n",
    "axes[1].set_title(\"Sem incluir outliers\")\n",
    "\n",
    "sns.despine(bottom = True, left=True)\n",
    "\n",
    "plt.xticks([])\n",
    "axes[0].yaxis.set_major_formatter(mtick.StrMethodFormatter('{x} m²'))\n",
    "axes[1].yaxis.set_major_formatter(mtick.StrMethodFormatter('{x} m²'))"
   ]
  },
  {
   "cell_type": "markdown",
   "metadata": {},
   "source": [
    "##### Comparando o número de outliers dos três"
   ]
  },
  {
   "cell_type": "code",
   "execution_count": 41,
   "metadata": {},
   "outputs": [
    {
     "data": {
      "text/markdown": [
       "<span style='color:None'>**Max e Min da fields.area dos dados totais:**</span>"
      ],
      "text/plain": [
       "<IPython.core.display.Markdown object>"
      ]
     },
     "metadata": {},
     "output_type": "display_data"
    },
    {
     "name": "stdout",
     "output_type": "stream",
     "text": [
      "-65.0\n",
      "215.0\n"
     ]
    },
    {
     "data": {
      "text/markdown": [
       "<span style='color:None'>**Número de outliers presentes nessa coluna:** 1090</span>"
      ],
      "text/plain": [
       "<IPython.core.display.Markdown object>"
      ]
     },
     "metadata": {},
     "output_type": "display_data"
    },
    {
     "data": {
      "text/markdown": [
       "<span style='color:None'>**Porcentagem de outliers sobre o número total de dados selecionados:** 10.87%</span>"
      ],
      "text/plain": [
       "<IPython.core.display.Markdown object>"
      ]
     },
     "metadata": {},
     "output_type": "display_data"
    },
    {
     "data": {
      "text/markdown": [
       "<span style='color:None'>*===========================*</span>"
      ],
      "text/plain": [
       "<IPython.core.display.Markdown object>"
      ]
     },
     "metadata": {},
     "output_type": "display_data"
    },
    {
     "data": {
      "text/markdown": [
       "<span style='color:None'>**Max e Min da fields.area dos dados após filtragem por somente Studio e Kits:**</span>"
      ],
      "text/plain": [
       "<IPython.core.display.Markdown object>"
      ]
     },
     "metadata": {},
     "output_type": "display_data"
    },
    {
     "name": "stdout",
     "output_type": "stream",
     "text": [
      "8.0\n",
      "56.0\n"
     ]
    },
    {
     "data": {
      "text/markdown": [
       "<span style='color:None'>**Número de outliers presentes nessa coluna:** 51</span>"
      ],
      "text/plain": [
       "<IPython.core.display.Markdown object>"
      ]
     },
     "metadata": {},
     "output_type": "display_data"
    },
    {
     "data": {
      "text/markdown": [
       "<span style='color:None'>**Porcentagem de outliers sobre o número total de dados selecionados:** 2.71%</span>"
      ],
      "text/plain": [
       "<IPython.core.display.Markdown object>"
      ]
     },
     "metadata": {},
     "output_type": "display_data"
    },
    {
     "data": {
      "text/markdown": [
       "<span style='color:None'>*===========================*</span>"
      ],
      "text/plain": [
       "<IPython.core.display.Markdown object>"
      ]
     },
     "metadata": {},
     "output_type": "display_data"
    },
    {
     "data": {
      "text/markdown": [
       "<span style='color:None'>**Max e Min da fields.area dos dados após filtragem por somente Casas:**</span>"
      ],
      "text/plain": [
       "<IPython.core.display.Markdown object>"
      ]
     },
     "metadata": {},
     "output_type": "display_data"
    },
    {
     "name": "stdout",
     "output_type": "stream",
     "text": [
      "-212.5\n",
      "607.5\n"
     ]
    },
    {
     "data": {
      "text/markdown": [
       "<span style='color:None'>**Número de outliers presentes nessa coluna:** 833</span>"
      ],
      "text/plain": [
       "<IPython.core.display.Markdown object>"
      ]
     },
     "metadata": {},
     "output_type": "display_data"
    },
    {
     "data": {
      "text/markdown": [
       "<span style='color:None'>**Porcentagem de outliers sobre o número total de dados selecionados:** 88.05%</span>"
      ],
      "text/plain": [
       "<IPython.core.display.Markdown object>"
      ]
     },
     "metadata": {},
     "output_type": "display_data"
    }
   ],
   "source": [
    "printmd('**Max e Min da fields.area dos dados totais:**')\n",
    "Q1 = db.quantile(0.25)\n",
    "Q3 = db.quantile(0.75)\n",
    "IQR = Q3 - Q1\n",
    "print((Q1 - 1.5 * IQR)['fields.area'])\n",
    "print((Q3 + 1.5 * IQR)['fields.area'])\n",
    "outliers =db[db['fields.area']<-56.5].count()['fields.area'] + db[db['fields.area']>195.5].count()['fields.area']\n",
    "printmd('**Número de outliers presentes nessa coluna:** {outliers}'.format(outliers=outliers))\n",
    "a = outliers / db['fields.area'].count() * 100\n",
    "printmd('**Porcentagem de outliers sobre o número total de dados selecionados:** {a}%'.format(a=a.round(2)))\n",
    "\n",
    "printmd('*===========================*')\n",
    "printmd('**Max e Min da fields.area dos dados após filtragem por somente Studio e Kits:**')\n",
    "\n",
    "Q1 = studioOuKtc.quantile(0.25)\n",
    "Q3 = studioOuKtc.quantile(0.75)\n",
    "IQR = Q3 - Q1\n",
    "print((Q1 - 1.5 * IQR)['fields.area'])\n",
    "print((Q3 + 1.5 * IQR)['fields.area'])\n",
    "outliers =studioOuKtc[studioOuKtc['fields.area']<9.5].count()['fields.area'] + studioOuKtc[studioOuKtc['fields.area']>53.5].count()['fields.area']\n",
    "printmd('**Número de outliers presentes nessa coluna:** {outliers}'.format(outliers=outliers))\n",
    "a = outliers / studioOuKtc['fields.area'].count() * 100\n",
    "printmd('**Porcentagem de outliers sobre o número total de dados selecionados:** {a}%'.format(a=a.round(2)))\n",
    "\n",
    "printmd('*===========================*')\n",
    "printmd('**Max e Min da fields.area dos dados após filtragem por somente Casas:**')\n",
    "\n",
    "Q1 = casa.quantile(0.25)\n",
    "Q3 = casa.quantile(0.75)\n",
    "IQR = Q3 - Q1\n",
    "print((Q1 - 1.5 * IQR)['fields.area'])\n",
    "print((Q3 + 1.5 * IQR)['fields.area'])\n",
    "outliers =casa[casa['fields.area']<9.5].count()['fields.area'] + casa[casa['fields.area']>53.5].count()['fields.area']\n",
    "printmd('**Número de outliers presentes nessa coluna:** {outliers}'.format(outliers=outliers))\n",
    "a = outliers / casa['fields.area'].count() * 100\n",
    "printmd('**Porcentagem de outliers sobre o número total de dados selecionados:** {a}%'.format(a=a.round(2)))\n",
    "\n",
    "#casa['fields.area'].reset_index()['fields.area']"
   ]
  },
  {
   "cell_type": "markdown",
   "metadata": {},
   "source": [
    "Podemos afirmar que a hipótese parcialmente se confirma, pois apesar de não conseguirmos comprovar a parte de Apartamentos \"duplex\" e \"triplex\", comprovamos que Studios e Kitcheneettes contém uma porcentagem muito menor de outliers do que o dataset total, e muito menor ainda do que Casas:\n",
    "\n",
    "\n",
    "|  | Dataset Total | Casas | StudiosOuKits |\n",
    "|-|-|-|-|\n",
    "| **% de outliers** | 9.4 | 91.01 | 2.75 |\n"
   ]
  },
  {
   "cell_type": "markdown",
   "metadata": {
    "heading_collapsed": "true"
   },
   "source": [
    "### Hipótese 4"
   ]
  },
  {
   "cell_type": "code",
   "execution_count": 42,
   "metadata": {},
   "outputs": [
    {
     "data": {
      "image/png": "[encoded data removed]",
      "text/plain": [
       "<Figure size 1440x432 with 3 Axes>"
      ]
     },
     "metadata": {
      "needs_background": "light"
     },
     "output_type": "display_data"
    }
   ],
   "source": [
    "fig, axes = plt.subplots(1,3, sharex=True, sharey=True, figsize=(20,6))\n",
    "#bplt = plt.figure()\n",
    "regplot = sns.regplot(ax=axes[0], y='fields.vagas',x='fields.quartos',data = db)#,\n",
    "#                   palette = 'pastel')\n",
    "barplot = sns.barplot(ax=axes[1], y='fields.vagas',x='fields.quartos',data = db,\n",
    "                   palette = 'pastel')\n",
    "bplt = sns.boxplot(ax=axes[2], y='fields.vagas',x='fields.quartos',data = db,\n",
    "                   palette = 'pastel')\n",
    "\n",
    "fig.suptitle('''RELAÇÃO Nº QUARTOS x Nº VAGAS NA GARAGEM''',\n",
    "         fontsize = 10, color ='dimgrey', fontweight = 'bold')\n",
    "\n",
    "axes[0].set_title(\"Regplot\")\n",
    "axes[1].set_title(\"Barplot\")\n",
    "axes[2].set_title(\"Boxplot\")\n",
    "\n",
    "sns.despine(bottom = True, left=True)\n",
    "\n",
    "#plt.xticks([])\n",
    "#plt.tick_params(labelcolor='none', top=False, bottom=False, left=False, right=False)\n",
    "axes[0].set_ylabel('Nº de Vagas')\n",
    "fig.text(0.5, 0.04, 'Nº de Quartos', ha='center')\n",
    "for i in axes:\n",
    "    i.grid(True)\n",
    "    i.set_xlabel(\"\")\n",
    "    if i!=axes[0]:\n",
    "        i.set_ylabel(\"\")"
   ]
  },
  {
   "cell_type": "markdown",
   "metadata": {},
   "source": [
    "Interpretação:<br>\n",
    "    &#9; Existe uma tendência de crescimento do número de vagas disponíveis com o crescimento do número de quartos dos imóveis até 5 quartos. Após isso, a tendência perde força e varia mais, sem demonstrar muita relação. Porém, se olharmos o crescimento do número de Quartos em função do número de Vagas, algo inesperado ocorre:<br> \n",
    "    &#9; **Vemos uma tendência de crescimento mais definida e constante.**"
   ]
  },
  {
   "cell_type": "code",
   "execution_count": 43,
   "metadata": {},
   "outputs": [
    {
     "data": {
      "image/png": "[encoded data removed]",
      "text/plain": [
       "<Figure size 1440x432 with 3 Axes>"
      ]
     },
     "metadata": {
      "needs_background": "light"
     },
     "output_type": "display_data"
    }
   ],
   "source": [
    "fig, axes = plt.subplots(1,3, sharex=True, sharey=True, figsize=(20,6))\n",
    "#bplt = plt.figure()\n",
    "regplot = sns.regplot(ax=axes[0], y='fields.quartos',x='fields.vagas',data = db)#,\n",
    "#                   palette = 'pastel')\n",
    "barplot = sns.barplot(ax=axes[1], y='fields.quartos',x='fields.vagas',data = db,\n",
    "                   palette = 'pastel')\n",
    "bplt = sns.boxplot(ax=axes[2], y='fields.quartos',x='fields.vagas',data = db,\n",
    "                   palette = 'pastel')\n",
    "\n",
    "fig.suptitle('''RELAÇÃO Nº VAGAS NA GARAGEM x Nº DE QUARTOS''',\n",
    "         fontsize = 10, color ='dimgrey', fontweight = 'bold')\n",
    "\n",
    "axes[0].set_title(\"Regplot\")\n",
    "axes[1].set_title(\"Barplot\")\n",
    "axes[2].set_title(\"Boxplot\")\n",
    "\n",
    "sns.despine(bottom = True, left=True)\n",
    "\n",
    "#plt.xticks([])\n",
    "#plt.tick_params(labelcolor='none', top=False, bottom=False, left=False, right=False)\n",
    "axes[0].set_ylabel('Nº de Quartos')\n",
    "fig.text(0.5, 0.04, 'Nº de Vagas', ha='center')\n",
    "for i in axes:\n",
    "    i.grid(True)\n",
    "    i.set_xlabel(\"\")\n",
    "    if i!=axes[0]:\n",
    "        i.set_ylabel(\"\")"
   ]
  },
  {
   "cell_type": "markdown",
   "metadata": {},
   "source": [
    "## 4. Seleção de features para Machine Learning"
   ]
  },
  {
   "cell_type": "code",
   "execution_count": 44,
   "metadata": {},
   "outputs": [
    {
     "data": {
      "text/plain": [
       "['fields.quartos',\n",
       " 'fields.area',\n",
       " 'fields.sale_price',\n",
       " 'fields.aluguel',\n",
       " 'fields.custo',\n",
       " 'fields.condo_iptu',\n",
       " 'fields.vagas']"
      ]
     },
     "execution_count": 44,
     "metadata": {},
     "output_type": "execute_result"
    }
   ],
   "source": [
    "numericas\n",
    "#vamos dropar sale_price e custo. aluguel será nosso Target"
   ]
  },
  {
   "cell_type": "code",
   "execution_count": 45,
   "metadata": {},
   "outputs": [
    {
     "data": {
      "text/plain": [
       "['fields.tipo',\n",
       " 'fields.for_rent',\n",
       " 'fields.cidade',\n",
       " 'fields.for_sale',\n",
       " 'fields.listing_tags',\n",
       " 'fields.regiao_nome']"
      ]
     },
     "execution_count": 45,
     "metadata": {},
     "output_type": "execute_result"
    }
   ],
   "source": [
    "categoricas"
   ]
  },
  {
   "cell_type": "code",
   "execution_count": 46,
   "metadata": {},
   "outputs": [
    {
     "name": "stdout",
     "output_type": "stream",
     "text": [
      "fields.tipo\n",
      "['Apartamento' 'StudioOuKitchenette' 'Casa' 'CasaCondominio'] \n",
      "\n",
      "fields.for_rent\n",
      "[ True] \n",
      "\n",
      "fields.cidade\n",
      "['São Paulo'] \n",
      "\n",
      "fields.for_sale\n",
      "[ True False] \n",
      "\n",
      "fields.listing_tags\n",
      "['[\"NEW_AD\"]' '[\"RENT_ON_TERMINATION\",\"NEW_AD\",\"VISITS_UNAVAILABLE\"]'\n",
      " '[\"NEW_AD\",\"RENT_PRICE_DECREASED\"]' nan\n",
      " '[\"RENT_ON_TERMINATION\",\"VISITS_UNAVAILABLE\"]'\n",
      " '[\"RENT_ON_TERMINATION\",\"NEW_AD\",\"RENT_PRICE_DECREASED\",\"VISITS_UNAVAILABLE\"]'\n",
      " '[\"RENT_PRICE_DECREASED\"]' '[\"VISITS_UNAVAILABLE\"]'\n",
      " '[\"NEW_AD\",\"VISITS_UNAVAILABLE\"]'\n",
      " '[\"RENT_ON_TERMINATION\",\"RENT_PRICE_DECREASED\",\"VISITS_UNAVAILABLE\"]'\n",
      " '[\"RENT_ON_TERMINATION\"]' '[\"RENT_PRICE_DECREASED\",\"VISITS_UNAVAILABLE\"]'] \n",
      "\n",
      "fields.regiao_nome\n",
      "['Liberdade' 'Centro' 'Mooca' 'Bela Vista' 'Consolação' 'Santa Cecília'\n",
      " 'Aclimação' 'Brás' 'Cambuci' 'Higienópolis' 'Barra Funda' 'Bom Retiro'\n",
      " 'Jardim Paulista' 'Paraíso' 'Vila Mariana' 'Perdizes' 'Pacaembu'\n",
      " 'Pinheiros' 'Ipiranga' 'Belém' 'Casa Verde' 'Itaim Bibi' 'Sumaré'\n",
      " 'Vila Guilherme' 'Canindé' 'Vila Pompéia' 'Jardim Anália Franco'\n",
      " 'Vila Nova Conceição' 'Vila Clementino' 'Pari' 'Vila Maria' 'Santana'\n",
      " 'Vila Madalena' 'Tatuapé' 'Vila Olímpia' 'Bosque da Saúde'\n",
      " 'Chácara Inglesa' 'Vila Ede' 'Água Branca' 'Moema' 'Vila Romana'\n",
      " 'Vila Prudente' 'Vila Invernada' 'Saúde' 'Água Fria' 'Jardim Europa'\n",
      " 'Alto de Pinheiros' 'Vila das Mercês' 'Jardim Paulistano' 'Lapa' 'Sacomã'\n",
      " 'Brooklin' 'Vila Santa Clara' 'Jardim América' 'Parque Novo Mundo'\n",
      " 'Mandaqui' 'Vila Mazzei' 'Jardim Brasil' 'Vila Nova Cachoeirinha'\n",
      " 'Planalto Paulista' 'Freguesia do Ó' 'Vila Gustavo' 'Campo Belo'\n",
      " 'Jardim Independência' 'Vila Santa Maria' 'Cidade Jardim' 'Jabaquara'\n",
      " 'Casa Verde Alta' 'Vila Diva' 'Real Parque' 'São João Clímaco'\n",
      " 'Vila Roque' 'Sítio do Mandaqui' 'Vila Prado' 'Vila Constança'\n",
      " 'Vila Amália' 'Piqueri' 'Jardim Avelino' 'Jardim Santa Emília' 'Butantã'\n",
      " 'Jardim Guedala' 'Chácara Santo Antonio' 'Vila Santista' 'Vila Mascote'] \n",
      "\n"
     ]
    }
   ],
   "source": [
    "#precisaremos transformar as categóricas em valores numéricos para o ML funcionar\n",
    "\n",
    "for i in categoricas:\n",
    "    print(i)\n",
    "    print(db[i].unique(), '\\n')\n",
    "    \n",
    "#iremos dropar for_rent, cidade e for_sale"
   ]
  },
  {
   "cell_type": "code",
   "execution_count": 47,
   "metadata": {},
   "outputs": [],
   "source": [
    "db2 = db.copy()"
   ]
  },
  {
   "cell_type": "code",
   "execution_count": 48,
   "metadata": {},
   "outputs": [
    {
     "data": {
      "text/plain": [
       "Index(['fields.quartos', 'fields.area', 'fields.aluguel', 'fields.condo_iptu',\n",
       "       'fields.vagas', 'fields.tipo', 'fields.listing_tags',\n",
       "       'fields.regiao_nome'],\n",
       "      dtype='object')"
      ]
     },
     "execution_count": 48,
     "metadata": {},
     "output_type": "execute_result"
    }
   ],
   "source": [
    "#Selecionando nossas colunas para conferimos as correlações\n",
    "newCols = ['fields.quartos',\n",
    " 'fields.area',\n",
    " 'fields.aluguel',\n",
    " 'fields.condo_iptu',\n",
    " 'fields.vagas',\n",
    " 'fields.tipo',\n",
    " 'fields.listing_tags',\n",
    " 'fields.regiao_nome']\n",
    "db2 = db2[newCols]\n",
    "\n",
    "db2.columns"
   ]
  },
  {
   "cell_type": "code",
   "execution_count": 49,
   "metadata": {},
   "outputs": [
    {
     "data": {
      "image/png": "[encoded data removed]",
      "text/plain": [
       "<Figure size 720x720 with 2 Axes>"
      ]
     },
     "metadata": {
      "needs_background": "light"
     },
     "output_type": "display_data"
    }
   ],
   "source": [
    "d = db2.corr().round(2)\n",
    "\n",
    "# Plotando gráfico\n",
    "plt.figure(figsize=(10, 10))\n",
    "\n",
    "mask = np.triu(np.ones_like(d, dtype=bool))\n",
    "sns.heatmap(d, annot = True, square = True, mask = mask, cmap = 'magma_r')\n",
    "\n",
    "plt.title('CORRELAÇÃO DAS VARIÁVEIS', fontsize = 13, color ='dimgrey', fontweight = 'bold')\n",
    "\n",
    "sns.despine(bottom = True, left=True)"
   ]
  },
  {
   "cell_type": "code",
   "execution_count": 50,
   "metadata": {},
   "outputs": [
    {
     "name": "stdout",
     "output_type": "stream",
     "text": [
      "Index(['fields.quartos', 'fields.area', 'fields.aluguel', 'fields.condo_iptu',\n",
      "       'fields.vagas', 'fields.tipo',\n",
      "       'one_hot_[\"NEW_AD\",\"RENT_PRICE_DECREASED\"]',\n",
      "       'one_hot_[\"NEW_AD\",\"VISITS_UNAVAILABLE\"]', 'one_hot_[\"NEW_AD\"]',\n",
      "       'one_hot_[\"RENT_ON_TERMINATION\",\"NEW_AD\",\"RENT_PRICE_DECREASED\",\"VISITS_UNAVAILABLE\"]',\n",
      "       ...\n",
      "       'one_hot_Vila Prado', 'one_hot_Vila Prudente', 'one_hot_Vila Romana',\n",
      "       'one_hot_Vila Roque', 'one_hot_Vila Santa Clara',\n",
      "       'one_hot_Vila Santa Maria', 'one_hot_Vila Santista',\n",
      "       'one_hot_Vila das Mercês', 'one_hot_Água Branca', 'one_hot_Água Fria'],\n",
      "      dtype='object', length=101)\n"
     ]
    }
   ],
   "source": [
    "label_encoder = LabelEncoder()\n",
    "ohe = OneHotEncoder()\n",
    "tipoMap = {\"StudioOuKitchenette\":0, \"Apartamento\":1,\"CasaCondominio\":2, \"Casa\":3}\n",
    "db2 = pd.get_dummies(db2, prefix='one_hot', columns=['fields.listing_tags', 'fields.regiao_nome'])\n",
    "db2['fields.tipo'].replace(tipoMap, inplace=True)\n",
    "print(db2.columns)"
   ]
  },
  {
   "cell_type": "markdown",
   "metadata": {
    "heading_collapsed": "true"
   },
   "source": [
    "### Testando Boruta para selecionar as features"
   ]
  },
  {
   "cell_type": "markdown",
   "metadata": {},
   "source": [
    "Aqui testarei a utilização do algoritmo BorutaPy, mesmo sabendo que nesse caso ele não será muito útil pela baixa quantidade de dados.\n",
    "Utilizarem a versão dos dados antes da aplicação do algoritmo OneHotEncoding, pois essas colunas vão pedir uma quantidade muito grande de memória e processamento do computador"
   ]
  },
  {
   "cell_type": "code",
   "execution_count": 51,
   "metadata": {},
   "outputs": [
    {
     "data": {
      "text/plain": [
       "Index(['fields.quartos', 'fields.area', 'fields.aluguel', 'fields.condo_iptu',\n",
       "       'fields.vagas', 'fields.tipo'],\n",
       "      dtype='object')"
      ]
     },
     "execution_count": 51,
     "metadata": {},
     "output_type": "execute_result"
    }
   ],
   "source": [
    "cols = ['fields.quartos', 'fields.area', 'fields.aluguel', 'fields.condo_iptu', 'fields.vagas', 'fields.tipo']\n",
    "db3 = db[cols]\n",
    "db3['fields.tipo'].replace(tipoMap, inplace=True)\n",
    "db3.columns"
   ]
  },
  {
   "cell_type": "code",
   "execution_count": 52,
   "metadata": {},
   "outputs": [
    {
     "name": "stdout",
     "output_type": "stream",
     "text": [
      "['fields.quartos', 'fields.area', 'fields.aluguel', 'fields.condo_iptu', 'fields.vagas', 'fields.tipo']\n"
     ]
    }
   ],
   "source": [
    "cols = db3.columns.to_list()\n",
    "print(cols)\n",
    "#cols = ['fields.quartos', 'fields.area', 'fields.aluguel', 'fields.condo_iptu', 'fields.vagas', 'fields.tipo']\n",
    "for i in ['fields.aluguel']:\n",
    "    cols.remove(i)\n",
    "    \n",
    "X = db3[cols].values\n",
    "y = db3['fields.aluguel'].values.ravel()\n"
   ]
  },
  {
   "cell_type": "code",
   "execution_count": 53,
   "metadata": {},
   "outputs": [
    {
     "data": {
      "text/plain": [
       "44357"
      ]
     },
     "execution_count": 53,
     "metadata": {},
     "output_type": "execute_result"
    }
   ],
   "source": [
    "gc.collect()"
   ]
  },
  {
   "cell_type": "code",
   "execution_count": 54,
   "metadata": {},
   "outputs": [
    {
     "name": "stdout",
     "output_type": "stream",
     "text": [
      "Iteration: 1 / 100\n",
      "Iteration: 2 / 100\n",
      "Iteration: 3 / 100\n",
      "Iteration: 4 / 100\n",
      "Iteration: 5 / 100\n",
      "Iteration: 6 / 100\n",
      "Iteration: 7 / 100\n",
      "Iteration: 8 / 100\n",
      "\n",
      "\n",
      "BorutaPy finished running.\n",
      "\n",
      "Iteration: \t9 / 100\n",
      "Confirmed: \t1\n",
      "Tentative: \t0\n",
      "Rejected: \t4\n"
     ]
    },
    {
     "data": {
      "text/markdown": [
       "<span style='color:None'>**Features escolhidas pelo algoritmo:** ['fields.condo_iptu']</span>"
      ],
      "text/plain": [
       "<IPython.core.display.Markdown object>"
      ]
     },
     "metadata": {},
     "output_type": "display_data"
    }
   ],
   "source": [
    "# Define o algoritmo random forest classifier, usando todos os cores do CPU\n",
    "rf = RandomForestClassifier(n_jobs=-1)\n",
    "\n",
    "# Definir o método para Feature Selection que o Boruta vai utilizar\n",
    "feat_selector = BorutaPy(rf, n_estimators='auto', verbose=1, random_state=23)\n",
    "\n",
    "# Encontrar as features relevantes\n",
    "feat_selector.fit(X, y)\n",
    "\n",
    "# Conferir as features elecionadas\n",
    "filtered_list = [i for (i, v) in zip(cols, feat_selector.support_) if v]\n",
    "printmd(\"**Features escolhidas pelo algoritmo:** {features}\".format(features=filtered_list))\n",
    "\n",
    "\n",
    "# Poderiamos chamar a função transform() no X para filtrar para somente as features escolhidas\n",
    "# X_filtered = feat_selector.transform(X)\n"
   ]
  },
  {
   "cell_type": "markdown",
   "metadata": {},
   "source": [
    "Como falado antes, o algoritmo não vai sugerir a seleção de colunas de modo útil ou bastante funcional para esse projeto pois a quantidade de dados não está próxima do perfeito. Porém, é sempre bom testar e entender como aplicá-lo, principalmente em projetos como esse!"
   ]
  },
  {
   "cell_type": "markdown",
   "metadata": {},
   "source": [
    "## 5. Teste de diversos algoritmos de Machine Learning"
   ]
  },
  {
   "cell_type": "code",
   "execution_count": 55,
   "metadata": {},
   "outputs": [
    {
     "name": "stdout",
     "output_type": "stream",
     "text": [
      "['fields.quartos', 'fields.area', 'fields.aluguel', 'fields.condo_iptu', 'fields.vagas', 'fields.tipo', 'one_hot_[\"NEW_AD\",\"RENT_PRICE_DECREASED\"]', 'one_hot_[\"NEW_AD\",\"VISITS_UNAVAILABLE\"]', 'one_hot_[\"NEW_AD\"]', 'one_hot_[\"RENT_ON_TERMINATION\",\"NEW_AD\",\"RENT_PRICE_DECREASED\",\"VISITS_UNAVAILABLE\"]', 'one_hot_[\"RENT_ON_TERMINATION\",\"NEW_AD\",\"VISITS_UNAVAILABLE\"]', 'one_hot_[\"RENT_ON_TERMINATION\",\"RENT_PRICE_DECREASED\",\"VISITS_UNAVAILABLE\"]', 'one_hot_[\"RENT_ON_TERMINATION\",\"VISITS_UNAVAILABLE\"]', 'one_hot_[\"RENT_ON_TERMINATION\"]', 'one_hot_[\"RENT_PRICE_DECREASED\",\"VISITS_UNAVAILABLE\"]', 'one_hot_[\"RENT_PRICE_DECREASED\"]', 'one_hot_[\"VISITS_UNAVAILABLE\"]', 'one_hot_Aclimação', 'one_hot_Alto de Pinheiros', 'one_hot_Barra Funda', 'one_hot_Bela Vista', 'one_hot_Belém', 'one_hot_Bom Retiro', 'one_hot_Bosque da Saúde', 'one_hot_Brooklin', 'one_hot_Brás', 'one_hot_Butantã', 'one_hot_Cambuci', 'one_hot_Campo Belo', 'one_hot_Canindé', 'one_hot_Casa Verde', 'one_hot_Casa Verde Alta', 'one_hot_Centro', 'one_hot_Chácara Inglesa', 'one_hot_Chácara Santo Antonio', 'one_hot_Cidade Jardim', 'one_hot_Consolação', 'one_hot_Freguesia do Ó', 'one_hot_Higienópolis', 'one_hot_Ipiranga', 'one_hot_Itaim Bibi', 'one_hot_Jabaquara', 'one_hot_Jardim América', 'one_hot_Jardim Anália Franco', 'one_hot_Jardim Avelino', 'one_hot_Jardim Brasil', 'one_hot_Jardim Europa', 'one_hot_Jardim Guedala', 'one_hot_Jardim Independência', 'one_hot_Jardim Paulista', 'one_hot_Jardim Paulistano', 'one_hot_Jardim Santa Emília', 'one_hot_Lapa', 'one_hot_Liberdade', 'one_hot_Mandaqui', 'one_hot_Moema', 'one_hot_Mooca', 'one_hot_Pacaembu', 'one_hot_Paraíso', 'one_hot_Pari', 'one_hot_Parque Novo Mundo', 'one_hot_Perdizes', 'one_hot_Pinheiros', 'one_hot_Piqueri', 'one_hot_Planalto Paulista', 'one_hot_Real Parque', 'one_hot_Sacomã', 'one_hot_Santa Cecília', 'one_hot_Santana', 'one_hot_Saúde', 'one_hot_Sumaré', 'one_hot_São João Clímaco', 'one_hot_Sítio do Mandaqui', 'one_hot_Tatuapé', 'one_hot_Vila Amália', 'one_hot_Vila Clementino', 'one_hot_Vila Constança', 'one_hot_Vila Diva', 'one_hot_Vila Ede', 'one_hot_Vila Guilherme', 'one_hot_Vila Gustavo', 'one_hot_Vila Invernada', 'one_hot_Vila Madalena', 'one_hot_Vila Maria', 'one_hot_Vila Mariana', 'one_hot_Vila Mascote', 'one_hot_Vila Mazzei', 'one_hot_Vila Nova Cachoeirinha', 'one_hot_Vila Nova Conceição', 'one_hot_Vila Olímpia', 'one_hot_Vila Pompéia', 'one_hot_Vila Prado', 'one_hot_Vila Prudente', 'one_hot_Vila Romana', 'one_hot_Vila Roque', 'one_hot_Vila Santa Clara', 'one_hot_Vila Santa Maria', 'one_hot_Vila Santista', 'one_hot_Vila das Mercês', 'one_hot_Água Branca', 'one_hot_Água Fria']\n"
     ]
    }
   ],
   "source": [
    "cols = db2.columns.to_list()\n",
    "print(cols)\n",
    "cols.remove('fields.aluguel')\n",
    "X = db2[cols]\n",
    "y = db2['fields.aluguel']\n",
    "\n",
    "\n",
    "X_train, X_test, y_train, y_test = train_test_split(X, y, test_size=0.33, random_state=42, stratify=db2['fields.tipo'])\n",
    "\n",
    "\n"
   ]
  },
  {
   "cell_type": "markdown",
   "metadata": {},
   "source": [
    "- Vamos comparar os resultados dos algoritmos: LinearRegression, Ridge, RidgeCV"
   ]
  },
  {
   "cell_type": "code",
   "execution_count": 56,
   "metadata": {},
   "outputs": [],
   "source": [
    "def linear(X_train, X_test, y_train, y_test):\n",
    "    lr = LinearRegression()\n",
    "    lr.fit(X_train, y_train)\n",
    "    pred = (lr.predict(X_test) - y_test).abs()\n",
    "    print(\"LinearRegression has an error rate of R$\",pred.describe()['mean'])\n",
    "    score = [lr.score(X_train, y_train),lr.score(X_test, y_test)]\n",
    "    return \"LinearRegression made a {score1} score in train and a {score2} in test.\".format(score1=score[0].round(3),\n",
    "                                                                                            score2=score[1].round(3))"
   ]
  },
  {
   "cell_type": "code",
   "execution_count": 57,
   "metadata": {},
   "outputs": [],
   "source": [
    "def ridge(X_train, X_test, y_train, y_test):\n",
    "    clf = make_pipeline(StandardScaler(), Ridge(alpha=1.0, random_state=42))\n",
    "    clf.fit(X_train, y_train)\n",
    "    pred = (clf.predict(X_test) - y_test).abs()\n",
    "    print(\"RidgeRegression has an error rate of R$\",pred.describe()['mean'])\n",
    "    score = [clf.score(X_train, y_train),clf.score(X_test, y_test)]\n",
    "    return \"Ridge Regression made a {score1} score in train and a {score2} in test.\".format(score1=score[0].round(3),\n",
    "                                                                                            score2=score[1].round(3))"
   ]
  },
  {
   "cell_type": "code",
   "execution_count": 58,
   "metadata": {},
   "outputs": [],
   "source": [
    "def ridgeCV(X_train, X_test, y_train, y_test):\n",
    "    rid = make_pipeline(StandardScaler(),PolynomialFeatures(degree=2), RidgeCV())\n",
    "    rid.fit(X_train, y_train)\n",
    "    pred = (rid.predict(X_test) - y_test).abs()\n",
    "    print(\"RidgeCV has an error rate of R$\",pred.describe()['mean'])\n",
    "    score = [rid.score(X_train, y_train),rid.score(X_test, y_test)]\n",
    "    return \"RidgeCV made a {score1} score in train and a {score2} in test.\".format(score1=score[0].round(3),\n",
    "                                                                                            score2=score[1].round(3))"
   ]
  },
  {
   "cell_type": "code",
   "execution_count": 59,
   "metadata": {},
   "outputs": [
    {
     "data": {
      "text/plain": [
       "326"
      ]
     },
     "execution_count": 59,
     "metadata": {},
     "output_type": "execute_result"
    }
   ],
   "source": [
    "gc.collect()"
   ]
  },
  {
   "cell_type": "code",
   "execution_count": 60,
   "metadata": {},
   "outputs": [
    {
     "name": "stdout",
     "output_type": "stream",
     "text": [
      "LinearRegression has an error rate of R$ 1100.221590268911\n",
      "LinearRegression made a 0.63 score in train and a 0.627 in test.\n",
      "RidgeRegression has an error rate of R$ 1100.4272404326289\n",
      "Ridge Regression made a 0.63 score in train and a 0.627 in test.\n",
      "RidgeCV has an error rate of R$ 1138.1448689516485\n",
      "RidgeCV made a 0.731 score in train and a 0.028 in test.\n"
     ]
    }
   ],
   "source": [
    "for i in [linear, ridge, ridgeCV]:\n",
    "    print(i(X_train, X_test, y_train, y_test))"
   ]
  },
  {
   "cell_type": "markdown",
   "metadata": {},
   "source": [
    "### Testando algumas opções de exclusão de dados categóricos e comparando resultados"
   ]
  },
  {
   "cell_type": "markdown",
   "metadata": {},
   "source": [
    "+ Excluindo o tipo de imóvel `CasaCondominio` "
   ]
  },
  {
   "cell_type": "code",
   "execution_count": 61,
   "metadata": {},
   "outputs": [
    {
     "data": {
      "text/plain": [
       "44"
      ]
     },
     "execution_count": 61,
     "metadata": {},
     "output_type": "execute_result"
    }
   ],
   "source": [
    "gc.collect()"
   ]
  },
  {
   "cell_type": "code",
   "execution_count": 62,
   "metadata": {},
   "outputs": [],
   "source": [
    "#{\"StudioOuKitchenette\":0, \"Apartamento\":1,\"CasaCondominio\":2, \"Casa\":3}\n",
    "\n",
    "db3 = db2.loc[(db2['fields.tipo']==0) | (db2['fields.tipo']==1) | (db2['fields.tipo']==2)]\n",
    "\n",
    "cols = db3.columns.to_list()\n",
    "\n",
    "cols.remove('fields.aluguel')\n",
    "X = db3[cols]\n",
    "y = db3['fields.aluguel']\n",
    "\n",
    "X_train2, X_test2, y_train2, y_test2 = train_test_split(X, y, test_size=0.33, random_state=42, stratify=db3['fields.tipo'])"
   ]
  },
  {
   "cell_type": "code",
   "execution_count": 63,
   "metadata": {},
   "outputs": [
    {
     "name": "stdout",
     "output_type": "stream",
     "text": [
      "LinearRegression has an error rate of R$ 1030.170999311599\n",
      "LinearRegression made a 0.636 score in train and a 0.621 in test.\n",
      "RidgeRegression has an error rate of R$ 1031.0140073845093\n",
      "Ridge Regression made a 0.636 score in train and a 0.62 in test.\n",
      "RidgeCV has an error rate of R$ 1106.2228582332152\n",
      "RidgeCV made a 0.716 score in train and a -2.268 in test.\n"
     ]
    }
   ],
   "source": [
    "for i in [linear, ridge, ridgeCV]:\n",
    "    print(i(X_train2, X_test2, y_train2, y_test2))"
   ]
  },
  {
   "cell_type": "markdown",
   "metadata": {},
   "source": [
    "+ Mantendo somente os tipos de imóveis `StudioOuKitchenette` e `Apartamento`"
   ]
  },
  {
   "cell_type": "code",
   "execution_count": 64,
   "metadata": {},
   "outputs": [
    {
     "data": {
      "text/plain": [
       "22"
      ]
     },
     "execution_count": 64,
     "metadata": {},
     "output_type": "execute_result"
    }
   ],
   "source": [
    "gc.collect()"
   ]
  },
  {
   "cell_type": "code",
   "execution_count": 65,
   "metadata": {},
   "outputs": [],
   "source": [
    "#{\"StudioOuKitchenette\":0, \"Apartamento\":1,\"CasaCondominio\":2, \"Casa\":3}\n",
    "\n",
    "db3 = db2.loc[(db2['fields.tipo']==0) | (db2['fields.tipo']==1)]\n",
    "cols = db3.columns.to_list()\n",
    "cols.remove('fields.aluguel')\n",
    "X = db3[cols]\n",
    "y = db3['fields.aluguel']\n",
    "\n",
    "\n",
    "X_train3, X_test3, y_train3, y_test3 = train_test_split(X, y, test_size=0.33, random_state=42, stratify=db3['fields.tipo'])"
   ]
  },
  {
   "cell_type": "code",
   "execution_count": 66,
   "metadata": {},
   "outputs": [
    {
     "name": "stdout",
     "output_type": "stream",
     "text": [
      "LinearRegression has an error rate of R$ 1032.0306405182027\n",
      "LinearRegression made a 0.634 score in train and a 0.62 in test.\n",
      "RidgeRegression has an error rate of R$ 1032.8527773067328\n",
      "Ridge Regression made a 0.634 score in train and a 0.62 in test.\n",
      "RidgeCV has an error rate of R$ 1094.4678775089906\n",
      "RidgeCV made a 0.714 score in train and a -1.521 in test.\n"
     ]
    }
   ],
   "source": [
    "for i in [linear, ridge, ridgeCV]:\n",
    "    print(i(X_train3, X_test3, y_train3, y_test3))"
   ]
  },
  {
   "cell_type": "markdown",
   "metadata": {},
   "source": [
    "+ Mantendo somente o tipo de imóvel `Apartamento` "
   ]
  },
  {
   "cell_type": "code",
   "execution_count": 67,
   "metadata": {},
   "outputs": [
    {
     "data": {
      "text/plain": [
       "22"
      ]
     },
     "execution_count": 67,
     "metadata": {},
     "output_type": "execute_result"
    }
   ],
   "source": [
    "gc.collect()"
   ]
  },
  {
   "cell_type": "code",
   "execution_count": 68,
   "metadata": {},
   "outputs": [],
   "source": [
    "#{\"StudioOuKitchenette\":0, \"Apartamento\":1,\"CasaCondominio\":2, \"Casa\":3}\n",
    "db3 = db2.loc[(db2['fields.tipo']==1)]\n",
    "cols = db3.columns.to_list()\n",
    "cols.remove('fields.aluguel')\n",
    "X = db3[cols]\n",
    "y = db3['fields.aluguel']\n",
    "\n",
    "\n",
    "X_train4, X_test4, y_train4, y_test4 = train_test_split(X, y, test_size=0.33, random_state=42, stratify=db3['fields.tipo'])"
   ]
  },
  {
   "cell_type": "code",
   "execution_count": 69,
   "metadata": {},
   "outputs": [
    {
     "name": "stdout",
     "output_type": "stream",
     "text": [
      "LinearRegression has an error rate of R$ 1136.909187907563\n",
      "LinearRegression made a 0.626 score in train and a 0.597 in test.\n",
      "RidgeRegression has an error rate of R$ 1138.0624788378782\n",
      "Ridge Regression made a 0.626 score in train and a 0.597 in test.\n",
      "RidgeCV has an error rate of R$ 1128.8500995977772\n",
      "RidgeCV made a 0.701 score in train and a 0.611 in test.\n"
     ]
    }
   ],
   "source": [
    "for i in [linear, ridge, ridgeCV]:\n",
    "    print(i(X_train4, X_test4, y_train4, y_test4))"
   ]
  },
  {
   "cell_type": "markdown",
   "metadata": {},
   "source": [
    "+ Mantendo somente o tipo de imóvel `StudioOuKitchenette` "
   ]
  },
  {
   "cell_type": "code",
   "execution_count": 70,
   "metadata": {},
   "outputs": [
    {
     "data": {
      "text/plain": [
       "66"
      ]
     },
     "execution_count": 70,
     "metadata": {},
     "output_type": "execute_result"
    }
   ],
   "source": [
    "gc.collect()"
   ]
  },
  {
   "cell_type": "code",
   "execution_count": 71,
   "metadata": {},
   "outputs": [],
   "source": [
    "#{\"StudioOuKitchenette\":0, \"Apartamento\":1,\"CasaCondominio\":2, \"Casa\":3}\n",
    "\n",
    "db3 = db2.loc[(db2['fields.tipo']==0)]\n",
    "cols = db3.columns.to_list()\n",
    "cols.remove('fields.aluguel')\n",
    "X = db3[cols]\n",
    "y = db3['fields.aluguel']\n",
    "\n",
    "\n",
    "X_train5, X_test5, y_train5, y_test5 = train_test_split(X, y, test_size=0.33, random_state=42, stratify=db3['fields.tipo'])"
   ]
  },
  {
   "cell_type": "code",
   "execution_count": 72,
   "metadata": {},
   "outputs": [
    {
     "name": "stdout",
     "output_type": "stream",
     "text": [
      "LinearRegression has an error rate of R$ 603.4984091300288\n",
      "LinearRegression made a 0.531 score in train and a 0.457 in test.\n",
      "RidgeRegression has an error rate of R$ 604.6345158548531\n",
      "Ridge Regression made a 0.531 score in train and a 0.456 in test.\n",
      "RidgeCV has an error rate of R$ 779.3340732153624\n",
      "RidgeCV made a 0.754 score in train and a -10.263 in test.\n"
     ]
    }
   ],
   "source": [
    "for i in [linear, ridge, ridgeCV]:\n",
    "    print(i(X_train5, X_test5, y_train5, y_test5))"
   ]
  },
  {
   "cell_type": "markdown",
   "metadata": {},
   "source": [
    "+ Mantendo somente os tipos de imóveis `CasaCondominio` e `Casa`"
   ]
  },
  {
   "cell_type": "code",
   "execution_count": 73,
   "metadata": {},
   "outputs": [],
   "source": [
    "#{\"StudioOuKitchenette\":0, \"Apartamento\":1,\"CasaCondominio\":2, \"Casa\":3}\n",
    "\n",
    "db3 = db2.loc[(db2['fields.tipo']==2) | (db2['fields.tipo']==3)]\n",
    "cols = db3.columns.to_list()\n",
    "cols.remove('fields.aluguel')\n",
    "X = db3[cols]\n",
    "y = db3['fields.aluguel']\n",
    "\n",
    "\n",
    "X_train6, X_test6, y_train6, y_test6 = train_test_split(X, y, test_size=0.33, random_state=42, stratify=db3['fields.tipo'])"
   ]
  },
  {
   "cell_type": "code",
   "execution_count": 74,
   "metadata": {},
   "outputs": [
    {
     "name": "stdout",
     "output_type": "stream",
     "text": [
      "LinearRegression has an error rate of R$ 1582.6361231442368\n",
      "LinearRegression made a 0.726 score in train and a 0.662 in test.\n",
      "RidgeRegression has an error rate of R$ 1582.4421662264776\n",
      "Ridge Regression made a 0.726 score in train and a 0.663 in test.\n",
      "RidgeCV has an error rate of R$ 2147.3427549879493\n",
      "RidgeCV made a 0.871 score in train and a 0.318 in test.\n"
     ]
    }
   ],
   "source": [
    "for i in [linear, ridge, ridgeCV]:\n",
    "    print(i(X_train6, X_test6, y_train6, y_test6))"
   ]
  },
  {
   "cell_type": "markdown",
   "metadata": {},
   "source": [
    "+ Comparação entre os melhores resultados de cada\n",
    "| Tipos includos | Melhor resultado (R² score) | Erro em R$ |\n",
    "|--|--|--|\n",
    "|Todos os tipos|0.627|1100.22|\n",
    "|StudioOuKitchenette, Apartamento e Casa|0.621|1030.17|\n",
    "|StudioOuKitchenette e Apartamento|0.62|1032.85|\n",
    "|Apartamento|0.611|1128.85|\n",
    "|StudioOuKitchenette|0.457|603.49|\n",
    "|CasaCondominio e Casa|0.663|1582.44|"
   ]
  },
  {
   "cell_type": "markdown",
   "metadata": {
    "collapsed": "true"
   },
   "source": [
    "## 6. Criação de um Pipeline para deploy"
   ]
  },
  {
   "cell_type": "markdown",
   "metadata": {},
   "source": [
    "Por ora, criaremos um Pipeline e função de pré-processamento a partir do feito acima, o que nos permitiria utilizar o algoritmo em um sistem automatizado. Por ora escolheremos o algoritmo que teve melhor resultado R² entre os três primeiros, uma vez que será importânte manter a categoria `Apartamentos` no algoritmo por ser a mais anunciada, que será:\n",
    "+ RidgeRegression com dados de todos os tipos de imóveis"
   ]
  },
  {
   "cell_type": "code",
   "execution_count": 75,
   "metadata": {},
   "outputs": [],
   "source": [
    "def transformData(data):\n",
    "    data = data[[\n",
    "        'fields.quartos',        \n",
    "        'fields.area',\n",
    "        'fields.aluguel',\n",
    "        'fields.condo_iptu',\n",
    "        'fields.vagas',\n",
    "        'fields.tipo',\n",
    "        'fields.listing_tags',\n",
    "        'fields.regiao_nome'\n",
    "    ]]\n",
    "    \n",
    "    tipoMap={\"StudioOuKitchenette\":0, \"Apartamento\":1,\"CasaCondominio\":2, \"Casa\":3}\n",
    "    data['fields.tipo'].replace(tipoMap, inplace=True)\n",
    "    data = data[data['fields.tipo'].map(lambda x: int(x) in [0,1,3])]\n",
    "    if len(data) < 1:\n",
    "        raise ValueError(\"Imóvel não é do tipo suportado\")\n",
    "    data['fields.listing_tags'].replace({np.nan:''}, inplace=True)\n",
    "    data['fields.quartos'] = data['fields.quartos'].astype('int64')\n",
    "    data['fields.condo_iptu'] = data['fields.condo_iptu'].astype('float')\n",
    "    data['fields.vagas'] = data['fields.vagas'].astype('int64')\n",
    "    for i in data.columns:\n",
    "        if data[i].isnull().any():\n",
    "            print(i)\n",
    "    data = pd.get_dummies(data, prefix='one_hot', columns=['fields.listing_tags', 'fields.regiao_nome'])\n",
    "    #print(data.columns)\n",
    "    return data"
   ]
  },
  {
   "cell_type": "code",
   "execution_count": 76,
   "metadata": {},
   "outputs": [],
   "source": [
    "db_pipe = pd.read_csv('aluguel_unique.csv')\n",
    "db_pipe = transformData(db)\n",
    "cols = db_pipe.columns.to_list()\n",
    "\n",
    "X = db_pipe.drop(['fields.aluguel'],axis=1)\n",
    "y = db_pipe['fields.aluguel']\n",
    "\n",
    "\n",
    "\n",
    "arrays = [X, y]\n",
    "lengths = [len(X) for X in arrays if X is not None]\n",
    "\n",
    "\n",
    "\n",
    "X_train, X_test, y_train, y_test = train_test_split(X, y, test_size=0.33, random_state=42, stratify=X['fields.tipo'])\n",
    "\n",
    "\n"
   ]
  },
  {
   "cell_type": "code",
   "execution_count": 77,
   "metadata": {},
   "outputs": [],
   "source": [
    "def addMissingCols(data):\n",
    "    cols = transformData(db).columns.tolist()\n",
    "    \n",
    "    return data.reindex(columns=cols, fill_value=0)"
   ]
  },
  {
   "cell_type": "code",
   "execution_count": 78,
   "metadata": {},
   "outputs": [
    {
     "data": {
      "text/plain": [
       "Pipeline(steps=[('functiontransformer',\n",
       "                 FunctionTransformer(func=<function addMissingCols at 0x000001A79144E550>)),\n",
       "                ('standardscaler', StandardScaler()),\n",
       "                ('polynomialfeatures', PolynomialFeatures()),\n",
       "                ('ridge', Ridge())])"
      ]
     },
     "execution_count": 78,
     "metadata": {},
     "output_type": "execute_result"
    }
   ],
   "source": [
    "Pipeline = make_pipeline(\n",
    "    FunctionTransformer(addMissingCols),\n",
    "    StandardScaler(),\n",
    "    PolynomialFeatures(degree=2),\n",
    "    Ridge()\n",
    ")\n",
    "Pipeline.fit(X_train, y_train)\n",
    "#pred = (Pipeline.predict(X_test) - y_test).abs()\n",
    "#print(\"RidgeCV has an error rate of R$\",pred.describe()['mean'])\n",
    "#score = rid.score(X_test, y_test)"
   ]
  },
  {
   "cell_type": "markdown",
   "metadata": {},
   "source": [
    "+ Dados do meu apartamento fictício:\n",
    "    + Quartos: 2\n",
    "    + Area: 47m²\n",
    "    + Condo+IPTU:\n",
    "    + Vagas: 1\n",
    "    + Tipo: Apartamento"
   ]
  },
  {
   "cell_type": "code",
   "execution_count": 79,
   "metadata": {},
   "outputs": [
    {
     "data": {
      "text/plain": [
       "array(['Aclimação', 'Alto de Pinheiros', 'Barra Funda', 'Bela Vista',\n",
       "       'Belém', 'Bom Retiro', 'Bosque da Saúde', 'Brooklin', 'Brás',\n",
       "       'Butantã', 'Cambuci', 'Campo Belo', 'Canindé', 'Casa Verde',\n",
       "       'Casa Verde Alta', 'Centro', 'Chácara Inglesa',\n",
       "       'Chácara Santo Antonio', 'Cidade Jardim', 'Consolação',\n",
       "       'Freguesia do Ó', 'Higienópolis', 'Ipiranga', 'Itaim Bibi',\n",
       "       'Jabaquara', 'Jardim América', 'Jardim Anália Franco',\n",
       "       'Jardim Avelino', 'Jardim Brasil', 'Jardim Europa',\n",
       "       'Jardim Guedala', 'Jardim Independência', 'Jardim Paulista',\n",
       "       'Jardim Paulistano', 'Jardim Santa Emília', 'Lapa', 'Liberdade',\n",
       "       'Mandaqui', 'Moema', 'Mooca', 'Pacaembu', 'Paraíso', 'Pari',\n",
       "       'Parque Novo Mundo', 'Perdizes', 'Pinheiros', 'Piqueri',\n",
       "       'Planalto Paulista', 'Real Parque', 'Sacomã', 'Santa Cecília',\n",
       "       'Santana', 'Saúde', 'Sumaré', 'São João Clímaco',\n",
       "       'Sítio do Mandaqui', 'Tatuapé', 'Vila Amália', 'Vila Clementino',\n",
       "       'Vila Constança', 'Vila Diva', 'Vila Ede', 'Vila Guilherme',\n",
       "       'Vila Gustavo', 'Vila Invernada', 'Vila Madalena', 'Vila Maria',\n",
       "       'Vila Mariana', 'Vila Mascote', 'Vila Mazzei',\n",
       "       'Vila Nova Cachoeirinha', 'Vila Nova Conceição', 'Vila Olímpia',\n",
       "       'Vila Pompéia', 'Vila Prado', 'Vila Prudente', 'Vila Romana',\n",
       "       'Vila Roque', 'Vila Santa Clara', 'Vila Santa Maria',\n",
       "       'Vila Santista', 'Vila das Mercês', 'Água Branca', 'Água Fria'],\n",
       "      dtype=object)"
      ]
     },
     "execution_count": 79,
     "metadata": {},
     "output_type": "execute_result"
    }
   ],
   "source": [
    "np.sort(db['fields.regiao_nome'].unique())"
   ]
  },
  {
   "cell_type": "code",
   "execution_count": 80,
   "metadata": {},
   "outputs": [
    {
     "name": "stdout",
     "output_type": "stream",
     "text": [
      "Seu imóvel deve ser anúnciado, segundo o mercado, pelo valor de: R$2555.52\n"
     ]
    }
   ],
   "source": [
    "apartamento = pd.DataFrame(data={'fields.quartos':[2],\n",
    "                           'fields.area':[47],\n",
    "                           'fields.aluguel':[0],\n",
    "                           'fields.condo_iptu':[350],\n",
    "                           'fields.vagas':[1],\n",
    "                           'fields.tipo':['Apartamento'],\n",
    "                           'fields.regiao_nome':['Vila Mariana'],\n",
    "                           'fields.listing_tags':['']\n",
    "                           })\n",
    "\n",
    "\n",
    "apartamento = transformData(apartamento)\n",
    "apartamento = addMissingCols(apartamento)\n",
    "\n",
    "X_apartamento = apartamento.drop(['fields.aluguel'], axis=1)\n",
    "y_apartamento = apartamento['fields.aluguel']\n",
    "apartamento_pred = Pipeline.predict(X_apartamento)[0].round(2)\n",
    "print(\"Seu imóvel deve ser anúnciado, segundo o mercado, pelo valor de: R${pred}\".format(pred=apartamento_pred))\n"
   ]
  },
  {
   "cell_type": "markdown",
   "metadata": {},
   "source": [
    "## 7. Conclusão"
   ]
  },
  {
   "cell_type": "markdown",
   "metadata": {},
   "source": [
    "Com esse projeto, foi possível aprender importântes lições de Análise e Ciência de Dados:\n",
    "+ Mesmo com bom tratamento e feature engineering, a quantidade total de dados vai ter grande peso no resultado e acurácia finais.\n",
    "+ Uma análise exploratória profunda, e muitas vezes, criativa, auxilia muito no entendimento dos dados, além de abrir chances para correções de inconsistências logo no inicio do processo.\n",
    "+ Os dados, mesmo que vindo de uma API de produção consistênte, sempre devem ser revisados e conferidos em busca de erros de tipagem, de digitação, entre outros.\n",
    "+ A forma como se dá a apresentação do processo de pensamento e geração de insights deve ser cuidadosamente trabalhada para garantir passar a mensagem corretamente para futuros leitores e revisadores do projeto.\n",
    "\n",
    "Além disso, o projeto acima me auxiliou a definir os próximos focos de estudo:\n",
    "+ Storytelling de Dados\n",
    "+ Feature Engineering\n"
   ]
  },
  {
   "cell_type": "markdown",
   "metadata": {},
   "source": [
    "Ideias para explorar nesse projeto futuramente:\n",
    "+ K Means com análise geoespacial dos Imóveis e seus valores"
   ]
  }
 ],
 "metadata": {
  "kernelspec": {
   "display_name": "Python 3",
   "language": "python",
   "name": "python3"
  },
  "language_info": {
   "codemirror_mode": {
    "name": "ipython",
    "version": 3
   },
   "file_extension": ".py",
   "mimetype": "text/x-python",
   "name": "python",
   "nbconvert_exporter": "python",
   "pygments_lexer": "ipython3",
   "version": "3.8.5"
  }
 },
 "nbformat": 4,
 "nbformat_minor": 4
}
